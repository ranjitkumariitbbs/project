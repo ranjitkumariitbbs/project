{
 "cells": [
  {
   "cell_type": "code",
   "execution_count": 43,
   "id": "6b480993",
   "metadata": {},
   "outputs": [],
   "source": [
    "import pandas as pd\n",
    "import matplotlib.pyplot as plt\n",
    "import numpy as np\n",
    "import seaborn as sns"
   ]
  },
  {
   "cell_type": "code",
   "execution_count": 91,
   "id": "d3df36a8",
   "metadata": {},
   "outputs": [
    {
     "data": {
      "text/html": [
       "<div>\n",
       "<style scoped>\n",
       "    .dataframe tbody tr th:only-of-type {\n",
       "        vertical-align: middle;\n",
       "    }\n",
       "\n",
       "    .dataframe tbody tr th {\n",
       "        vertical-align: top;\n",
       "    }\n",
       "\n",
       "    .dataframe thead th {\n",
       "        text-align: right;\n",
       "    }\n",
       "</style>\n",
       "<table border=\"1\" class=\"dataframe\">\n",
       "  <thead>\n",
       "    <tr style=\"text-align: right;\">\n",
       "      <th></th>\n",
       "      <th>Time_stamp</th>\n",
       "      <th>CSI_Value</th>\n",
       "    </tr>\n",
       "  </thead>\n",
       "  <tbody>\n",
       "    <tr>\n",
       "      <th>0</th>\n",
       "      <td>0.0000</td>\n",
       "      <td>0</td>\n",
       "    </tr>\n",
       "    <tr>\n",
       "      <th>1</th>\n",
       "      <td>0.0016</td>\n",
       "      <td>0.0004883+0.0004883i</td>\n",
       "    </tr>\n",
       "    <tr>\n",
       "      <th>2</th>\n",
       "      <td>0.0032</td>\n",
       "      <td>0-0.0004883i</td>\n",
       "    </tr>\n",
       "    <tr>\n",
       "      <th>3</th>\n",
       "      <td>0.0048</td>\n",
       "      <td>0.00045778+0.0004883i</td>\n",
       "    </tr>\n",
       "    <tr>\n",
       "      <th>4</th>\n",
       "      <td>0.0064</td>\n",
       "      <td>0.0004883-0.0004883i</td>\n",
       "    </tr>\n",
       "    <tr>\n",
       "      <th>...</th>\n",
       "      <td>...</td>\n",
       "      <td>...</td>\n",
       "    </tr>\n",
       "    <tr>\n",
       "      <th>112486</th>\n",
       "      <td>179.9800</td>\n",
       "      <td>0.0004883-0.00051881i</td>\n",
       "    </tr>\n",
       "    <tr>\n",
       "      <th>112487</th>\n",
       "      <td>179.9800</td>\n",
       "      <td>0.00045778</td>\n",
       "    </tr>\n",
       "    <tr>\n",
       "      <th>112488</th>\n",
       "      <td>179.9800</td>\n",
       "      <td>-0.0004883-0.0004883i</td>\n",
       "    </tr>\n",
       "    <tr>\n",
       "      <th>112489</th>\n",
       "      <td>179.9800</td>\n",
       "      <td>0</td>\n",
       "    </tr>\n",
       "    <tr>\n",
       "      <th>112490</th>\n",
       "      <td>179.9800</td>\n",
       "      <td>0.0004883-3.0519e-05i</td>\n",
       "    </tr>\n",
       "  </tbody>\n",
       "</table>\n",
       "<p>112491 rows × 2 columns</p>\n",
       "</div>"
      ],
      "text/plain": [
       "        Time_stamp              CSI_Value\n",
       "0           0.0000                      0\n",
       "1           0.0016   0.0004883+0.0004883i\n",
       "2           0.0032           0-0.0004883i\n",
       "3           0.0048  0.00045778+0.0004883i\n",
       "4           0.0064   0.0004883-0.0004883i\n",
       "...            ...                    ...\n",
       "112486    179.9800  0.0004883-0.00051881i\n",
       "112487    179.9800             0.00045778\n",
       "112488    179.9800  -0.0004883-0.0004883i\n",
       "112489    179.9800                      0\n",
       "112490    179.9800  0.0004883-3.0519e-05i\n",
       "\n",
       "[112491 rows x 2 columns]"
      ]
     },
     "execution_count": 91,
     "metadata": {},
     "output_type": "execute_result"
    }
   ],
   "source": [
    "label=[\"Time_stamp\",\"CSI_Value\"]\n",
    "dataset=pd.read_csv(\"/home/ranjit/Thesis/CSI_Matlab/CSI_Dataset_final/Walking_room_Row_CSI.csv\",names=label)\n",
    "dataset.head(-10)"
   ]
  },
  {
   "cell_type": "code",
   "execution_count": 92,
   "id": "8c3d9db8",
   "metadata": {
    "scrolled": true
   },
   "outputs": [
    {
     "data": {
      "text/plain": [
       "Time_stamp    0\n",
       "CSI_Value     0\n",
       "dtype: int64"
      ]
     },
     "execution_count": 92,
     "metadata": {},
     "output_type": "execute_result"
    }
   ],
   "source": [
    "dataset.isnull().sum() # To check the null value in dataset"
   ]
  },
  {
   "cell_type": "code",
   "execution_count": 93,
   "id": "4f5b917c",
   "metadata": {},
   "outputs": [
    {
     "name": "stdout",
     "output_type": "stream",
     "text": [
      "['0.00094607']\n"
     ]
    }
   ],
   "source": [
    "X=dataset['CSI_Value'].values\n",
    "# lis=X.tolist()\n",
    "print(lis[49])"
   ]
  },
  {
   "cell_type": "code",
   "execution_count": 94,
   "id": "b3d6ceae",
   "metadata": {},
   "outputs": [],
   "source": [
    "lis1=[]\n",
    "k=-1\n",
    "for i in lis:\n",
    "    k+=1\n",
    "    for s in lis[k]:\n",
    "        s = s.replace('i', 'j')\n",
    "        v = complex(s)\n",
    "        lis1.append(v)\n"
   ]
  },
  {
   "cell_type": "code",
   "execution_count": 95,
   "id": "7137e395",
   "metadata": {},
   "outputs": [
    {
     "name": "stdout",
     "output_type": "stream",
     "text": [
      "(0.00094607+0j)\n"
     ]
    }
   ],
   "source": [
    "print(lis1[49])"
   ]
  },
  {
   "cell_type": "markdown",
   "id": "c0685039",
   "metadata": {},
   "source": [
    "# Extract Amplitude information"
   ]
  },
  {
   "cell_type": "code",
   "execution_count": 96,
   "id": "c3a01654",
   "metadata": {},
   "outputs": [],
   "source": [
    "amplitudes=[]\n",
    "for i in lis1:\n",
    "    amp=abs(i)*1000 # Scale-up by 100 unit\n",
    "    amplitudes.append(amp)"
   ]
  },
  {
   "cell_type": "code",
   "execution_count": 97,
   "id": "4f040d45",
   "metadata": {},
   "outputs": [
    {
     "name": "stdout",
     "output_type": "stream",
     "text": [
      "[0.0, 0.6905604825067824, 0.4883, 0.6693275867615199, 0.6905604825067824, 0.030518999999999998, 0.0, 0.4883, 0.4883, 0.48925279698842805, 0.4883, 0.0, 0.45778, 0.6905604825067824, 1.0070999999999999, 0.6693275867615199, 0.4883, 0.9765900000000001, 0.0, 1.091863049150396, 0.45778, 0.9460700000000001, 0.4883, 0.51881, 0.4883, 0.4883, 0.6693275867615199, 0.9765900000000001, 0.6905604825067824, 1.091863049150396, 0.6905604825067824, 1.091863049150396, 0.0, 0.9765900000000001, 0.6905604825067824, 0.0, 0.6905604825067824, 0.0, 0.0, 0.4883, 0.4883, 0.712461020758329, 0.6905604825067824, 0.4883, 0.4883, 0.6905604825067824, 0.6905604825067824, 0.0, 0.4883, 0.9460700000000001]\n",
      "\n",
      "Maximum amplitude value= 4.381319082194311\n"
     ]
    }
   ],
   "source": [
    "print(amplitudes[:50])\n",
    "print(\"\\nMaximum amplitude value=\",max(amplitudes))\n"
   ]
  },
  {
   "cell_type": "code",
   "execution_count": 98,
   "id": "539ae923",
   "metadata": {},
   "outputs": [],
   "source": [
    "\n",
    "# import csv\n",
    "# with open(\"/home/ranjit/Thesis/CSI_Matlab/CSI_Dataset_final/Walking_room.csv\",'r') as csvinput:\n",
    "#     with open(\"/home/ranjit/Thesis/CSI_Matlab/CSI_Dataset_final/Walking_room_Amp.csv\", 'w') as csvoutput:\n",
    "#         writer = csv.writer(csvoutput)\n",
    "#         i=0\n",
    "#         for row in csv.reader(csvinput):\n",
    "#             row.append(amplitudes[i])\n",
    "#             writer.writerow(row)\n",
    "#             i+=1\n",
    "# #             print(row)\n",
    "            "
   ]
  },
  {
   "cell_type": "code",
   "execution_count": 99,
   "id": "103f853d",
   "metadata": {},
   "outputs": [
    {
     "data": {
      "text/html": [
       "<div>\n",
       "<style scoped>\n",
       "    .dataframe tbody tr th:only-of-type {\n",
       "        vertical-align: middle;\n",
       "    }\n",
       "\n",
       "    .dataframe tbody tr th {\n",
       "        vertical-align: top;\n",
       "    }\n",
       "\n",
       "    .dataframe thead th {\n",
       "        text-align: right;\n",
       "    }\n",
       "</style>\n",
       "<table border=\"1\" class=\"dataframe\">\n",
       "  <thead>\n",
       "    <tr style=\"text-align: right;\">\n",
       "      <th></th>\n",
       "      <th>Time_stamp</th>\n",
       "      <th>CSI_Value</th>\n",
       "      <th>Amplitude_m</th>\n",
       "    </tr>\n",
       "  </thead>\n",
       "  <tbody>\n",
       "    <tr>\n",
       "      <th>0</th>\n",
       "      <td>0.0000</td>\n",
       "      <td>0</td>\n",
       "      <td>0.000000</td>\n",
       "    </tr>\n",
       "    <tr>\n",
       "      <th>1</th>\n",
       "      <td>0.0016</td>\n",
       "      <td>0.0004883+0.0004883i</td>\n",
       "      <td>0.690560</td>\n",
       "    </tr>\n",
       "    <tr>\n",
       "      <th>2</th>\n",
       "      <td>0.0032</td>\n",
       "      <td>0-0.0004883i</td>\n",
       "      <td>0.488300</td>\n",
       "    </tr>\n",
       "    <tr>\n",
       "      <th>3</th>\n",
       "      <td>0.0048</td>\n",
       "      <td>0.00045778+0.0004883i</td>\n",
       "      <td>0.669328</td>\n",
       "    </tr>\n",
       "    <tr>\n",
       "      <th>4</th>\n",
       "      <td>0.0064</td>\n",
       "      <td>0.0004883-0.0004883i</td>\n",
       "      <td>0.690560</td>\n",
       "    </tr>\n",
       "    <tr>\n",
       "      <th>...</th>\n",
       "      <td>...</td>\n",
       "      <td>...</td>\n",
       "      <td>...</td>\n",
       "    </tr>\n",
       "    <tr>\n",
       "      <th>112486</th>\n",
       "      <td>179.9800</td>\n",
       "      <td>0.0004883-0.00051881i</td>\n",
       "      <td>0.712461</td>\n",
       "    </tr>\n",
       "    <tr>\n",
       "      <th>112487</th>\n",
       "      <td>179.9800</td>\n",
       "      <td>0.00045778</td>\n",
       "      <td>0.457780</td>\n",
       "    </tr>\n",
       "    <tr>\n",
       "      <th>112488</th>\n",
       "      <td>179.9800</td>\n",
       "      <td>-0.0004883-0.0004883i</td>\n",
       "      <td>0.690560</td>\n",
       "    </tr>\n",
       "    <tr>\n",
       "      <th>112489</th>\n",
       "      <td>179.9800</td>\n",
       "      <td>0</td>\n",
       "      <td>0.000000</td>\n",
       "    </tr>\n",
       "    <tr>\n",
       "      <th>112490</th>\n",
       "      <td>179.9800</td>\n",
       "      <td>0.0004883-3.0519e-05i</td>\n",
       "      <td>0.489253</td>\n",
       "    </tr>\n",
       "  </tbody>\n",
       "</table>\n",
       "<p>112491 rows × 3 columns</p>\n",
       "</div>"
      ],
      "text/plain": [
       "        Time_stamp              CSI_Value  Amplitude_m\n",
       "0           0.0000                      0     0.000000\n",
       "1           0.0016   0.0004883+0.0004883i     0.690560\n",
       "2           0.0032           0-0.0004883i     0.488300\n",
       "3           0.0048  0.00045778+0.0004883i     0.669328\n",
       "4           0.0064   0.0004883-0.0004883i     0.690560\n",
       "...            ...                    ...          ...\n",
       "112486    179.9800  0.0004883-0.00051881i     0.712461\n",
       "112487    179.9800             0.00045778     0.457780\n",
       "112488    179.9800  -0.0004883-0.0004883i     0.690560\n",
       "112489    179.9800                      0     0.000000\n",
       "112490    179.9800  0.0004883-3.0519e-05i     0.489253\n",
       "\n",
       "[112491 rows x 3 columns]"
      ]
     },
     "execution_count": 99,
     "metadata": {},
     "output_type": "execute_result"
    }
   ],
   "source": [
    "label=[\"Time_stamp\",\"CSI_Value\",\"Amplitude_m\"]\n",
    "df_amp=pd.read_csv(\"/home/ranjit/Thesis/CSI_Matlab/CSI_Dataset_final/Walking_room_Amp.csv\",names=label)\n",
    "df_amp.head(-10)"
   ]
  },
  {
   "cell_type": "markdown",
   "id": "5f734bf3",
   "metadata": {},
   "source": [
    "# Extract Phase information"
   ]
  },
  {
   "cell_type": "code",
   "execution_count": 100,
   "id": "e7da7299",
   "metadata": {},
   "outputs": [],
   "source": [
    "# importing \"cmath\" for complex number operations\n",
    "\n",
    "import cmath\n",
    "\n",
    "phases=[]\n",
    "for i in lis1:\n",
    "    out_phase=cmath.phase(i)\n",
    "    phases.append(out_phase)"
   ]
  },
  {
   "cell_type": "code",
   "execution_count": 104,
   "id": "bc2d2470",
   "metadata": {},
   "outputs": [
    {
     "name": "stdout",
     "output_type": "stream",
     "text": [
      "[0.0, 0.7853981633974483, -1.5707963267948966, 0.8176464082769271, -0.7853981633974483, -1.5707963267948966, 0.0, -1.5707963267948966, -1.5707963267948966, -3.0791733336056537, -1.5707963267948966, 0.0, 0.0, 2.356194490192345, 3.141592653589793, 0.7531499185179695, 0.0, -1.5707963267948966, 0.0, 0.46365170487707785, 0.0, 1.5707963267948966, 0.0, -1.5707963267948966, 1.5707963267948966, -1.5707963267948966, 0.8176464082769271, 0.0, 0.7853981633974483, -0.46365170487707785, 2.356194490192345, -2.0344480316719746, 0.0, -1.5707963267948966, -0.7853981633974483, 0.0, 2.356194490192345, 0.0, 0.0, 1.5707963267948966, 1.5707963267948966, 2.3864798328911716, -2.356194490192345, -1.5707963267948966, 3.141592653589793, 2.356194490192345, -2.356194490192345, 0.0, 0.0, 0.0]\n",
      "\n",
      "Maximum phase value= 3.141592653589793\n"
     ]
    }
   ],
   "source": [
    "print(phases[0:50])\n",
    "print(\"\\nMaximum phase value=\",max(phases))"
   ]
  },
  {
   "cell_type": "code",
   "execution_count": 27,
   "id": "c62d2518",
   "metadata": {},
   "outputs": [],
   "source": [
    "\n",
    "# with open(\"/home/ranjit/Thesis/CSI_Matlab/CSI_Dataset_final/Walking_room_Amp.csv\",'r') as csvinput:\n",
    "#     with open(\"/home/ranjit/Thesis/CSI_Matlab/CSI_Dataset_final/Walking_room_Phase.csv\", 'w') as csvoutput:\n",
    "#         writer = csv.writer(csvoutput)\n",
    "#         i=0\n",
    "#         for row in csv.reader(csvinput):\n",
    "#             row.append(phases[i])\n",
    "#             writer.writerow(row)\n",
    "#             i+=1\n",
    "# #            print(row)\n",
    "            "
   ]
  },
  {
   "cell_type": "code",
   "execution_count": null,
   "id": "b7c2d6f3",
   "metadata": {},
   "outputs": [],
   "source": [
    "# dataset_amp=np.array(amplitudes)\n",
    "# data_len = dataset_amp.shape[0]\n",
    "# print(dataset_amp)"
   ]
  },
  {
   "cell_type": "code",
   "execution_count": 105,
   "id": "dd807e55",
   "metadata": {},
   "outputs": [
    {
     "data": {
      "text/html": [
       "<div>\n",
       "<style scoped>\n",
       "    .dataframe tbody tr th:only-of-type {\n",
       "        vertical-align: middle;\n",
       "    }\n",
       "\n",
       "    .dataframe tbody tr th {\n",
       "        vertical-align: top;\n",
       "    }\n",
       "\n",
       "    .dataframe thead th {\n",
       "        text-align: right;\n",
       "    }\n",
       "</style>\n",
       "<table border=\"1\" class=\"dataframe\">\n",
       "  <thead>\n",
       "    <tr style=\"text-align: right;\">\n",
       "      <th></th>\n",
       "      <th>Time stamp</th>\n",
       "      <th>CSI Value</th>\n",
       "      <th>Amplitude_m</th>\n",
       "      <th>Phase_rad</th>\n",
       "    </tr>\n",
       "  </thead>\n",
       "  <tbody>\n",
       "    <tr>\n",
       "      <th>0</th>\n",
       "      <td>0.0000</td>\n",
       "      <td>0</td>\n",
       "      <td>0.000000</td>\n",
       "      <td>0.000000</td>\n",
       "    </tr>\n",
       "    <tr>\n",
       "      <th>1</th>\n",
       "      <td>0.0016</td>\n",
       "      <td>0.0004883+0.0004883i</td>\n",
       "      <td>0.690560</td>\n",
       "      <td>0.785398</td>\n",
       "    </tr>\n",
       "    <tr>\n",
       "      <th>2</th>\n",
       "      <td>0.0032</td>\n",
       "      <td>0-0.0004883i</td>\n",
       "      <td>0.488300</td>\n",
       "      <td>-1.570796</td>\n",
       "    </tr>\n",
       "    <tr>\n",
       "      <th>3</th>\n",
       "      <td>0.0048</td>\n",
       "      <td>0.00045778+0.0004883i</td>\n",
       "      <td>0.669328</td>\n",
       "      <td>0.817646</td>\n",
       "    </tr>\n",
       "    <tr>\n",
       "      <th>4</th>\n",
       "      <td>0.0064</td>\n",
       "      <td>0.0004883-0.0004883i</td>\n",
       "      <td>0.690560</td>\n",
       "      <td>-0.785398</td>\n",
       "    </tr>\n",
       "    <tr>\n",
       "      <th>...</th>\n",
       "      <td>...</td>\n",
       "      <td>...</td>\n",
       "      <td>...</td>\n",
       "      <td>...</td>\n",
       "    </tr>\n",
       "    <tr>\n",
       "      <th>112486</th>\n",
       "      <td>179.9800</td>\n",
       "      <td>0.0004883-0.00051881i</td>\n",
       "      <td>0.712461</td>\n",
       "      <td>-0.815684</td>\n",
       "    </tr>\n",
       "    <tr>\n",
       "      <th>112487</th>\n",
       "      <td>179.9800</td>\n",
       "      <td>0.00045778</td>\n",
       "      <td>0.457780</td>\n",
       "      <td>0.000000</td>\n",
       "    </tr>\n",
       "    <tr>\n",
       "      <th>112488</th>\n",
       "      <td>179.9800</td>\n",
       "      <td>-0.0004883-0.0004883i</td>\n",
       "      <td>0.690560</td>\n",
       "      <td>-2.356194</td>\n",
       "    </tr>\n",
       "    <tr>\n",
       "      <th>112489</th>\n",
       "      <td>179.9800</td>\n",
       "      <td>0</td>\n",
       "      <td>0.000000</td>\n",
       "      <td>0.000000</td>\n",
       "    </tr>\n",
       "    <tr>\n",
       "      <th>112490</th>\n",
       "      <td>179.9800</td>\n",
       "      <td>0.0004883-3.0519e-05i</td>\n",
       "      <td>0.489253</td>\n",
       "      <td>-0.062419</td>\n",
       "    </tr>\n",
       "  </tbody>\n",
       "</table>\n",
       "<p>112491 rows × 4 columns</p>\n",
       "</div>"
      ],
      "text/plain": [
       "        Time stamp              CSI Value  Amplitude_m  Phase_rad\n",
       "0           0.0000                      0     0.000000   0.000000\n",
       "1           0.0016   0.0004883+0.0004883i     0.690560   0.785398\n",
       "2           0.0032           0-0.0004883i     0.488300  -1.570796\n",
       "3           0.0048  0.00045778+0.0004883i     0.669328   0.817646\n",
       "4           0.0064   0.0004883-0.0004883i     0.690560  -0.785398\n",
       "...            ...                    ...          ...        ...\n",
       "112486    179.9800  0.0004883-0.00051881i     0.712461  -0.815684\n",
       "112487    179.9800             0.00045778     0.457780   0.000000\n",
       "112488    179.9800  -0.0004883-0.0004883i     0.690560  -2.356194\n",
       "112489    179.9800                      0     0.000000   0.000000\n",
       "112490    179.9800  0.0004883-3.0519e-05i     0.489253  -0.062419\n",
       "\n",
       "[112491 rows x 4 columns]"
      ]
     },
     "execution_count": 105,
     "metadata": {},
     "output_type": "execute_result"
    }
   ],
   "source": [
    "label=[\"Time stamp\",\"CSI Value\",\"Amplitude_m\", \"Phase_rad\"]\n",
    "final_dataset=pd.read_csv(\"/home/ranjit/Thesis/CSI_Matlab/CSI_Dataset_final/Walking_room_Phase.csv\",names=label)\n",
    "\n",
    "final_dataset.head(-10)"
   ]
  },
  {
   "cell_type": "markdown",
   "id": "6a188942",
   "metadata": {},
   "source": [
    "# Activity: Walking, Standing, Sitting, Get_down, Get_up, No_Person "
   ]
  },
  {
   "cell_type": "code",
   "execution_count": 112,
   "id": "7e43b91f",
   "metadata": {},
   "outputs": [],
   "source": [
    "import csv\n",
    "with open(\"/home/ranjit/Thesis/CSI_Matlab/CSI_Dataset_final/Walking_room_Phase.csv\",'r') as csvinput:\n",
    "    with open(\"/home/ranjit/Thesis/CSI_Matlab/CSI_Dataset_final/Walking_room_Activity.csv\", 'w') as csvoutput:\n",
    "        writer = csv.writer(csvoutput)\n",
    "        i=0\n",
    "        for row in csv.reader(csvinput):\n",
    "            row.append(\"Walking\")\n",
    "            writer.writerow(row)\n",
    "            i+=1\n"
   ]
  },
  {
   "cell_type": "code",
   "execution_count": 116,
   "id": "d1f91b7a",
   "metadata": {},
   "outputs": [
    {
     "data": {
      "text/html": [
       "<div>\n",
       "<style scoped>\n",
       "    .dataframe tbody tr th:only-of-type {\n",
       "        vertical-align: middle;\n",
       "    }\n",
       "\n",
       "    .dataframe tbody tr th {\n",
       "        vertical-align: top;\n",
       "    }\n",
       "\n",
       "    .dataframe thead th {\n",
       "        text-align: right;\n",
       "    }\n",
       "</style>\n",
       "<table border=\"1\" class=\"dataframe\">\n",
       "  <thead>\n",
       "    <tr style=\"text-align: right;\">\n",
       "      <th></th>\n",
       "      <th>Time stamp</th>\n",
       "      <th>CSI Value</th>\n",
       "      <th>Amplitude_m</th>\n",
       "      <th>Phase_rad</th>\n",
       "      <th>Activity</th>\n",
       "    </tr>\n",
       "  </thead>\n",
       "  <tbody>\n",
       "    <tr>\n",
       "      <th>0</th>\n",
       "      <td>0.0000</td>\n",
       "      <td>0</td>\n",
       "      <td>0.000000</td>\n",
       "      <td>0.000000</td>\n",
       "      <td>Walking</td>\n",
       "    </tr>\n",
       "    <tr>\n",
       "      <th>1</th>\n",
       "      <td>0.0016</td>\n",
       "      <td>0.0004883+0.0004883i</td>\n",
       "      <td>0.690560</td>\n",
       "      <td>0.785398</td>\n",
       "      <td>Walking</td>\n",
       "    </tr>\n",
       "    <tr>\n",
       "      <th>2</th>\n",
       "      <td>0.0032</td>\n",
       "      <td>0-0.0004883i</td>\n",
       "      <td>0.488300</td>\n",
       "      <td>-1.570796</td>\n",
       "      <td>Walking</td>\n",
       "    </tr>\n",
       "    <tr>\n",
       "      <th>3</th>\n",
       "      <td>0.0048</td>\n",
       "      <td>0.00045778+0.0004883i</td>\n",
       "      <td>0.669328</td>\n",
       "      <td>0.817646</td>\n",
       "      <td>Walking</td>\n",
       "    </tr>\n",
       "    <tr>\n",
       "      <th>4</th>\n",
       "      <td>0.0064</td>\n",
       "      <td>0.0004883-0.0004883i</td>\n",
       "      <td>0.690560</td>\n",
       "      <td>-0.785398</td>\n",
       "      <td>Walking</td>\n",
       "    </tr>\n",
       "    <tr>\n",
       "      <th>...</th>\n",
       "      <td>...</td>\n",
       "      <td>...</td>\n",
       "      <td>...</td>\n",
       "      <td>...</td>\n",
       "      <td>...</td>\n",
       "    </tr>\n",
       "    <tr>\n",
       "      <th>112486</th>\n",
       "      <td>179.9800</td>\n",
       "      <td>0.0004883-0.00051881i</td>\n",
       "      <td>0.712461</td>\n",
       "      <td>-0.815684</td>\n",
       "      <td>Walking</td>\n",
       "    </tr>\n",
       "    <tr>\n",
       "      <th>112487</th>\n",
       "      <td>179.9800</td>\n",
       "      <td>0.00045778</td>\n",
       "      <td>0.457780</td>\n",
       "      <td>0.000000</td>\n",
       "      <td>Walking</td>\n",
       "    </tr>\n",
       "    <tr>\n",
       "      <th>112488</th>\n",
       "      <td>179.9800</td>\n",
       "      <td>-0.0004883-0.0004883i</td>\n",
       "      <td>0.690560</td>\n",
       "      <td>-2.356194</td>\n",
       "      <td>Walking</td>\n",
       "    </tr>\n",
       "    <tr>\n",
       "      <th>112489</th>\n",
       "      <td>179.9800</td>\n",
       "      <td>0</td>\n",
       "      <td>0.000000</td>\n",
       "      <td>0.000000</td>\n",
       "      <td>Walking</td>\n",
       "    </tr>\n",
       "    <tr>\n",
       "      <th>112490</th>\n",
       "      <td>179.9800</td>\n",
       "      <td>0.0004883-3.0519e-05i</td>\n",
       "      <td>0.489253</td>\n",
       "      <td>-0.062419</td>\n",
       "      <td>Walking</td>\n",
       "    </tr>\n",
       "  </tbody>\n",
       "</table>\n",
       "<p>112491 rows × 5 columns</p>\n",
       "</div>"
      ],
      "text/plain": [
       "        Time stamp              CSI Value  Amplitude_m  Phase_rad Activity\n",
       "0           0.0000                      0     0.000000   0.000000  Walking\n",
       "1           0.0016   0.0004883+0.0004883i     0.690560   0.785398  Walking\n",
       "2           0.0032           0-0.0004883i     0.488300  -1.570796  Walking\n",
       "3           0.0048  0.00045778+0.0004883i     0.669328   0.817646  Walking\n",
       "4           0.0064   0.0004883-0.0004883i     0.690560  -0.785398  Walking\n",
       "...            ...                    ...          ...        ...      ...\n",
       "112486    179.9800  0.0004883-0.00051881i     0.712461  -0.815684  Walking\n",
       "112487    179.9800             0.00045778     0.457780   0.000000  Walking\n",
       "112488    179.9800  -0.0004883-0.0004883i     0.690560  -2.356194  Walking\n",
       "112489    179.9800                      0     0.000000   0.000000  Walking\n",
       "112490    179.9800  0.0004883-3.0519e-05i     0.489253  -0.062419  Walking\n",
       "\n",
       "[112491 rows x 5 columns]"
      ]
     },
     "execution_count": 116,
     "metadata": {},
     "output_type": "execute_result"
    }
   ],
   "source": [
    "label=[\"Time stamp\",\"CSI Value\",\"Amplitude_m\", \"Phase_rad\",\"Activity\"]\n",
    "final_dataset=pd.read_csv(\"/home/ranjit/Thesis/CSI_Matlab/CSI_Dataset_final/Walking_room_Activity.csv\",names=label)\n",
    "\n",
    "final_dataset.head(-10)"
   ]
  },
  {
   "cell_type": "code",
   "execution_count": 117,
   "id": "9df01d2e",
   "metadata": {},
   "outputs": [
    {
     "name": "stdout",
     "output_type": "stream",
     "text": [
      "<class 'pandas.core.frame.DataFrame'>\n",
      "RangeIndex: 112501 entries, 0 to 112500\n",
      "Data columns (total 5 columns):\n",
      " #   Column       Non-Null Count   Dtype  \n",
      "---  ------       --------------   -----  \n",
      " 0   Time stamp   112501 non-null  float64\n",
      " 1   CSI Value    112501 non-null  object \n",
      " 2   Amplitude_m  112501 non-null  float64\n",
      " 3   Phase_rad    112501 non-null  float64\n",
      " 4   Activity     112501 non-null  object \n",
      "dtypes: float64(3), object(2)\n",
      "memory usage: 4.3+ MB\n"
     ]
    }
   ],
   "source": [
    "final_dataset.info()"
   ]
  },
  {
   "cell_type": "code",
   "execution_count": 118,
   "id": "532685bc",
   "metadata": {},
   "outputs": [
    {
     "data": {
      "text/plain": [
       "<AxesSubplot:title={'center':'Total number of sample Vs Activity'}>"
      ]
     },
     "execution_count": 118,
     "metadata": {},
     "output_type": "execute_result"
    },
    {
     "data": {
      "image/png": "[encoded data removed]",
      "text/plain": [
       "<Figure size 432x288 with 1 Axes>"
      ]
     },
     "metadata": {},
     "output_type": "display_data"
    }
   ],
   "source": [
    "sns.set(color_codes=True)\n",
    "final_dataset['Activity'].value_counts().plot(kind='bar',color=\"dodgerblue\",title='Total number of sample Vs Activity')\n"
   ]
  },
  {
   "cell_type": "code",
   "execution_count": null,
   "id": "f8f8194b",
   "metadata": {},
   "outputs": [],
   "source": []
  },
  {
   "cell_type": "code",
   "execution_count": null,
   "id": "f3bbe8e7",
   "metadata": {},
   "outputs": [],
   "source": []
  }
 ],
 "metadata": {
  "kernelspec": {
   "display_name": "Python 3 (ipykernel)",
   "language": "python",
   "name": "python3"
  },
  "language_info": {
   "codemirror_mode": {
    "name": "ipython",
    "version": 3
   },
   "file_extension": ".py",
   "mimetype": "text/x-python",
   "name": "python",
   "nbconvert_exporter": "python",
   "pygments_lexer": "ipython3",
   "version": "3.9.7"
  }
 },
 "nbformat": 4,
 "nbformat_minor": 5
}
