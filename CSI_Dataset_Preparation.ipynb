{
 "cells": [
  {
   "cell_type": "code",
   "execution_count": 34,
   "id": "6b480993",
   "metadata": {},
   "outputs": [],
   "source": [
    "import pandas as pd\n",
    "import matplotlib.pyplot as plt\n",
    "import numpy as np\n",
    "import seaborn as sns"
   ]
  },
  {
   "cell_type": "code",
   "execution_count": 44,
   "id": "d3df36a8",
   "metadata": {},
   "outputs": [
    {
     "data": {
      "text/html": [
       "<div>\n",
       "<style scoped>\n",
       "    .dataframe tbody tr th:only-of-type {\n",
       "        vertical-align: middle;\n",
       "    }\n",
       "\n",
       "    .dataframe tbody tr th {\n",
       "        vertical-align: top;\n",
       "    }\n",
       "\n",
       "    .dataframe thead th {\n",
       "        text-align: right;\n",
       "    }\n",
       "</style>\n",
       "<table border=\"1\" class=\"dataframe\">\n",
       "  <thead>\n",
       "    <tr style=\"text-align: right;\">\n",
       "      <th></th>\n",
       "      <th>CSI_Value</th>\n",
       "    </tr>\n",
       "  </thead>\n",
       "  <tbody>\n",
       "    <tr>\n",
       "      <th>0</th>\n",
       "      <td>0</td>\n",
       "    </tr>\n",
       "    <tr>\n",
       "      <th>1</th>\n",
       "      <td>-0.0004883-0.0004883i</td>\n",
       "    </tr>\n",
       "    <tr>\n",
       "      <th>2</th>\n",
       "      <td>-0.00097659-0.0014954i</td>\n",
       "    </tr>\n",
       "    <tr>\n",
       "      <th>3</th>\n",
       "      <td>0.0004883-0.0004883i</td>\n",
       "    </tr>\n",
       "    <tr>\n",
       "      <th>4</th>\n",
       "      <td>-0.00097659</td>\n",
       "    </tr>\n",
       "    <tr>\n",
       "      <th>...</th>\n",
       "      <td>...</td>\n",
       "    </tr>\n",
       "    <tr>\n",
       "      <th>5479</th>\n",
       "      <td>-0.0004883+0.0004883i</td>\n",
       "    </tr>\n",
       "    <tr>\n",
       "      <th>5480</th>\n",
       "      <td>0-0.0004883i</td>\n",
       "    </tr>\n",
       "    <tr>\n",
       "      <th>5481</th>\n",
       "      <td>0-0.0004883i</td>\n",
       "    </tr>\n",
       "    <tr>\n",
       "      <th>5482</th>\n",
       "      <td>-0.0004883+0.00045778i</td>\n",
       "    </tr>\n",
       "    <tr>\n",
       "      <th>5483</th>\n",
       "      <td>0.0004883</td>\n",
       "    </tr>\n",
       "  </tbody>\n",
       "</table>\n",
       "<p>5484 rows × 1 columns</p>\n",
       "</div>"
      ],
      "text/plain": [
       "                   CSI_Value\n",
       "0                          0\n",
       "1      -0.0004883-0.0004883i\n",
       "2     -0.00097659-0.0014954i\n",
       "3       0.0004883-0.0004883i\n",
       "4                -0.00097659\n",
       "...                      ...\n",
       "5479   -0.0004883+0.0004883i\n",
       "5480            0-0.0004883i\n",
       "5481            0-0.0004883i\n",
       "5482  -0.0004883+0.00045778i\n",
       "5483               0.0004883\n",
       "\n",
       "[5484 rows x 1 columns]"
      ]
     },
     "execution_count": 44,
     "metadata": {},
     "output_type": "execute_result"
    }
   ],
   "source": [
    "label=[\"CSI_Value\"]\n",
    "dataset=pd.read_csv(\"/home/ranjit/Thesis/CSI_Matlab/CSI_Dataset_final/Sitting/Sitting_room_Row_CSI.csv\",names=label)\n",
    "dataset.head(-10)"
   ]
  },
  {
   "cell_type": "code",
   "execution_count": 6,
   "id": "8c3d9db8",
   "metadata": {
    "scrolled": true
   },
   "outputs": [
    {
     "data": {
      "text/plain": [
       "Time_stamp    0\n",
       "CSI_Value     0\n",
       "dtype: int64"
      ]
     },
     "execution_count": 6,
     "metadata": {},
     "output_type": "execute_result"
    }
   ],
   "source": [
    "dataset.isnull().sum() # To check the null value in dataset"
   ]
  },
  {
   "cell_type": "code",
   "execution_count": 45,
   "id": "4f5b917c",
   "metadata": {},
   "outputs": [
    {
     "name": "stdout",
     "output_type": "stream",
     "text": [
      "['0.0004883']\n"
     ]
    }
   ],
   "source": [
    "X=dataset.values\n",
    "lis=X.tolist()\n",
    "print(X[49])\n",
    "# print(lis)\n"
   ]
  },
  {
   "cell_type": "code",
   "execution_count": 46,
   "id": "b3d6ceae",
   "metadata": {},
   "outputs": [],
   "source": [
    "lis1=[]\n",
    "k=-1\n",
    "for i in lis:\n",
    "    k+=1\n",
    "    for s in lis[k]:\n",
    "        s = s.replace('i', 'j')\n",
    "        v = complex(s)\n",
    "        lis1.append(v)\n"
   ]
  },
  {
   "cell_type": "code",
   "execution_count": 47,
   "id": "7137e395",
   "metadata": {},
   "outputs": [
    {
     "name": "stdout",
     "output_type": "stream",
     "text": [
      "(0.0004883+0j)\n"
     ]
    }
   ],
   "source": [
    "print(lis1[49])"
   ]
  },
  {
   "cell_type": "markdown",
   "id": "c0685039",
   "metadata": {},
   "source": [
    "# Extract Amplitude, Phase information"
   ]
  },
  {
   "cell_type": "code",
   "execution_count": 48,
   "id": "c3a01654",
   "metadata": {},
   "outputs": [],
   "source": [
    "amplitudes=[]\n",
    "for i in lis1:\n",
    "    amp=abs(i)*1000 # Scale-up by 100 unit\n",
    "    amplitudes.append(amp)"
   ]
  },
  {
   "cell_type": "code",
   "execution_count": 49,
   "id": "4f040d45",
   "metadata": {},
   "outputs": [
    {
     "name": "stdout",
     "output_type": "stream",
     "text": [
      "[0.0, 0.6905604825067824, 1.7860428852913919, 0.6905604825067824, 0.9765900000000001, 0.4883, 0.6905604825067824, 0.4883, 0.6905604825067824, 0.9765900000000001, 0.4883, 0.030518999999999998, 0.6905604825067824, 0.030518999999999998, 0.51881, 0.030518999999999998, 0.4883, 0.4883, 0.4883, 0.6905604825067824, 0.030518999999999998, 0.6905604825067824, 0.6905604825067824, 0.9765900000000001, 0.0, 0.0, 0.4883, 0.030518999999999998, 0.6905604825067824, 0.6905604825067824, 0.030518999999999998, 1.0646526827562124, 0.4883, 0.4883, 1.091863049150396, 0.9765900000000001, 0.6905604825067824, 0.6905604825067824, 1.0785594821334612, 0.45778, 0.9765900000000001, 0.030518999999999998, 0.9765900000000001, 1.0785594821334612, 0.6905604825067824, 0.4883, 0.4883, 0.030518999999999998, 0.0, 0.4883]\n",
      "\n",
      "Maximum amplitude value= 2.0133124769891038\n"
     ]
    }
   ],
   "source": [
    "print(amplitudes[:50])\n",
    "print(\"\\nMaximum amplitude value=\",max(amplitudes))\n"
   ]
  },
  {
   "cell_type": "code",
   "execution_count": 50,
   "id": "539ae923",
   "metadata": {},
   "outputs": [],
   "source": [
    "\n",
    "import csv\n",
    "with open(\"/home/ranjit/Thesis/CSI_Matlab/CSI_Dataset_final/Sitting/Sitting_room_Row_CSI.csv\",'r') as csvinput:\n",
    "    with open(\"/home/ranjit/Thesis/CSI_Matlab/CSI_Dataset_final/Sitting/Sitting_room_Amp.csv\", 'w') as csvoutput:\n",
    "        writer = csv.writer(csvoutput)\n",
    "        i=0\n",
    "        for row in csv.reader(csvinput):\n",
    "            row.append(amplitudes[i])\n",
    "            writer.writerow(row)\n",
    "            i+=1\n",
    "#             print(row)\n",
    "            "
   ]
  },
  {
   "cell_type": "code",
   "execution_count": 51,
   "id": "103f853d",
   "metadata": {},
   "outputs": [
    {
     "data": {
      "text/html": [
       "<div>\n",
       "<style scoped>\n",
       "    .dataframe tbody tr th:only-of-type {\n",
       "        vertical-align: middle;\n",
       "    }\n",
       "\n",
       "    .dataframe tbody tr th {\n",
       "        vertical-align: top;\n",
       "    }\n",
       "\n",
       "    .dataframe thead th {\n",
       "        text-align: right;\n",
       "    }\n",
       "</style>\n",
       "<table border=\"1\" class=\"dataframe\">\n",
       "  <thead>\n",
       "    <tr style=\"text-align: right;\">\n",
       "      <th></th>\n",
       "      <th>CSI_Value</th>\n",
       "      <th>Amplitude_m</th>\n",
       "    </tr>\n",
       "  </thead>\n",
       "  <tbody>\n",
       "    <tr>\n",
       "      <th>0</th>\n",
       "      <td>0</td>\n",
       "      <td>0.000000</td>\n",
       "    </tr>\n",
       "    <tr>\n",
       "      <th>1</th>\n",
       "      <td>-0.0004883-0.0004883i</td>\n",
       "      <td>0.690560</td>\n",
       "    </tr>\n",
       "    <tr>\n",
       "      <th>2</th>\n",
       "      <td>-0.00097659-0.0014954i</td>\n",
       "      <td>1.786043</td>\n",
       "    </tr>\n",
       "    <tr>\n",
       "      <th>3</th>\n",
       "      <td>0.0004883-0.0004883i</td>\n",
       "      <td>0.690560</td>\n",
       "    </tr>\n",
       "    <tr>\n",
       "      <th>4</th>\n",
       "      <td>-0.00097659</td>\n",
       "      <td>0.976590</td>\n",
       "    </tr>\n",
       "    <tr>\n",
       "      <th>...</th>\n",
       "      <td>...</td>\n",
       "      <td>...</td>\n",
       "    </tr>\n",
       "    <tr>\n",
       "      <th>5479</th>\n",
       "      <td>-0.0004883+0.0004883i</td>\n",
       "      <td>0.690560</td>\n",
       "    </tr>\n",
       "    <tr>\n",
       "      <th>5480</th>\n",
       "      <td>0-0.0004883i</td>\n",
       "      <td>0.488300</td>\n",
       "    </tr>\n",
       "    <tr>\n",
       "      <th>5481</th>\n",
       "      <td>0-0.0004883i</td>\n",
       "      <td>0.488300</td>\n",
       "    </tr>\n",
       "    <tr>\n",
       "      <th>5482</th>\n",
       "      <td>-0.0004883+0.00045778i</td>\n",
       "      <td>0.669328</td>\n",
       "    </tr>\n",
       "    <tr>\n",
       "      <th>5483</th>\n",
       "      <td>0.0004883</td>\n",
       "      <td>0.488300</td>\n",
       "    </tr>\n",
       "  </tbody>\n",
       "</table>\n",
       "<p>5484 rows × 2 columns</p>\n",
       "</div>"
      ],
      "text/plain": [
       "                   CSI_Value  Amplitude_m\n",
       "0                          0     0.000000\n",
       "1      -0.0004883-0.0004883i     0.690560\n",
       "2     -0.00097659-0.0014954i     1.786043\n",
       "3       0.0004883-0.0004883i     0.690560\n",
       "4                -0.00097659     0.976590\n",
       "...                      ...          ...\n",
       "5479   -0.0004883+0.0004883i     0.690560\n",
       "5480            0-0.0004883i     0.488300\n",
       "5481            0-0.0004883i     0.488300\n",
       "5482  -0.0004883+0.00045778i     0.669328\n",
       "5483               0.0004883     0.488300\n",
       "\n",
       "[5484 rows x 2 columns]"
      ]
     },
     "execution_count": 51,
     "metadata": {},
     "output_type": "execute_result"
    }
   ],
   "source": [
    "label=[\"CSI_Value\",\"Amplitude_m\"]\n",
    "df_amp=pd.read_csv(\"/home/ranjit/Thesis/CSI_Matlab/CSI_Dataset_final/Sitting/Sitting_room_Amp.csv\",names=label)\n",
    "df_amp.head(-10)"
   ]
  },
  {
   "cell_type": "markdown",
   "id": "5f734bf3",
   "metadata": {},
   "source": [
    "# Extract Phase information"
   ]
  },
  {
   "cell_type": "code",
   "execution_count": 52,
   "id": "e7da7299",
   "metadata": {},
   "outputs": [],
   "source": [
    "# importing \"cmath\" for complex number operations\n",
    "\n",
    "import cmath\n",
    "\n",
    "phases=[]\n",
    "for i in lis1:\n",
    "    out_phase=cmath.phase(i)\n",
    "    phases.append(out_phase)"
   ]
  },
  {
   "cell_type": "code",
   "execution_count": 53,
   "id": "bc2d2470",
   "metadata": {},
   "outputs": [
    {
     "name": "stdout",
     "output_type": "stream",
     "text": [
      "[0.0, -2.356194490192345, -2.1493215935875827, -0.7853981633974483, 3.141592653589793, 3.141592653589793, 0.7853981633974483, 3.141592653589793, -2.356194490192345, 3.141592653589793, 1.5707963267948966, 3.141592653589793, -0.7853981633974483, 3.141592653589793, -1.5707963267948966, -1.5707963267948966, 1.5707963267948966, 3.141592653589793, 0.0, 2.356194490192345, -1.5707963267948966, -2.356194490192345, 0.7853981633974483, 3.141592653589793, 0.0, 0.0, -1.5707963267948966, -1.5707963267948966, -2.356194490192345, -2.356194490192345, -1.5707963267948966, -0.4764722658737872, 3.141592653589793, -1.5707963267948966, -1.1071446219178187, -1.5707963267948966, 0.7853981633974483, -0.7853981633974483, -1.132456881129393, 1.5707963267948966, 1.5707963267948966, 3.141592653589793, 3.141592653589793, 0.4383394456655038, 0.7853981633974483, 3.141592653589793, 1.5707963267948966, -1.5707963267948966, 0.0, 0.0]\n",
      "\n",
      "Maximum phase value= 3.141592653589793\n"
     ]
    }
   ],
   "source": [
    "print(phases[0:50])\n",
    "print(\"\\nMaximum phase value=\",max(phases))"
   ]
  },
  {
   "cell_type": "code",
   "execution_count": 54,
   "id": "c62d2518",
   "metadata": {},
   "outputs": [],
   "source": [
    "\n",
    "with open(\"/home/ranjit/Thesis/CSI_Matlab/CSI_Dataset_final/Sitting/Sitting_room_Amp.csv\",'r') as csvinput:\n",
    "    with open(\"/home/ranjit/Thesis/CSI_Matlab/CSI_Dataset_final/Sitting/Sitting_room_Phase.csv\", 'w') as csvoutput:\n",
    "        writer = csv.writer(csvoutput)\n",
    "        i=0\n",
    "        for row in csv.reader(csvinput):\n",
    "            row.append(phases[i])\n",
    "            writer.writerow(row)\n",
    "            i+=1\n",
    "#            print(row)\n",
    "            "
   ]
  },
  {
   "cell_type": "code",
   "execution_count": null,
   "id": "b7c2d6f3",
   "metadata": {},
   "outputs": [],
   "source": [
    "# dataset_amp=np.array(amplitudes)\n",
    "# data_len = dataset_amp.shape[0]\n",
    "# print(dataset_amp)"
   ]
  },
  {
   "cell_type": "code",
   "execution_count": 55,
   "id": "dd807e55",
   "metadata": {},
   "outputs": [
    {
     "data": {
      "text/html": [
       "<div>\n",
       "<style scoped>\n",
       "    .dataframe tbody tr th:only-of-type {\n",
       "        vertical-align: middle;\n",
       "    }\n",
       "\n",
       "    .dataframe tbody tr th {\n",
       "        vertical-align: top;\n",
       "    }\n",
       "\n",
       "    .dataframe thead th {\n",
       "        text-align: right;\n",
       "    }\n",
       "</style>\n",
       "<table border=\"1\" class=\"dataframe\">\n",
       "  <thead>\n",
       "    <tr style=\"text-align: right;\">\n",
       "      <th></th>\n",
       "      <th>CSI Value</th>\n",
       "      <th>Amplitude_m</th>\n",
       "      <th>Phase_rad</th>\n",
       "    </tr>\n",
       "  </thead>\n",
       "  <tbody>\n",
       "    <tr>\n",
       "      <th>0</th>\n",
       "      <td>0</td>\n",
       "      <td>0.000000</td>\n",
       "      <td>0.000000</td>\n",
       "    </tr>\n",
       "    <tr>\n",
       "      <th>1</th>\n",
       "      <td>-0.0004883-0.0004883i</td>\n",
       "      <td>0.690560</td>\n",
       "      <td>-2.356194</td>\n",
       "    </tr>\n",
       "    <tr>\n",
       "      <th>2</th>\n",
       "      <td>-0.00097659-0.0014954i</td>\n",
       "      <td>1.786043</td>\n",
       "      <td>-2.149322</td>\n",
       "    </tr>\n",
       "    <tr>\n",
       "      <th>3</th>\n",
       "      <td>0.0004883-0.0004883i</td>\n",
       "      <td>0.690560</td>\n",
       "      <td>-0.785398</td>\n",
       "    </tr>\n",
       "    <tr>\n",
       "      <th>4</th>\n",
       "      <td>-0.00097659</td>\n",
       "      <td>0.976590</td>\n",
       "      <td>3.141593</td>\n",
       "    </tr>\n",
       "    <tr>\n",
       "      <th>...</th>\n",
       "      <td>...</td>\n",
       "      <td>...</td>\n",
       "      <td>...</td>\n",
       "    </tr>\n",
       "    <tr>\n",
       "      <th>5479</th>\n",
       "      <td>-0.0004883+0.0004883i</td>\n",
       "      <td>0.690560</td>\n",
       "      <td>2.356194</td>\n",
       "    </tr>\n",
       "    <tr>\n",
       "      <th>5480</th>\n",
       "      <td>0-0.0004883i</td>\n",
       "      <td>0.488300</td>\n",
       "      <td>-1.570796</td>\n",
       "    </tr>\n",
       "    <tr>\n",
       "      <th>5481</th>\n",
       "      <td>0-0.0004883i</td>\n",
       "      <td>0.488300</td>\n",
       "      <td>-1.570796</td>\n",
       "    </tr>\n",
       "    <tr>\n",
       "      <th>5482</th>\n",
       "      <td>-0.0004883+0.00045778i</td>\n",
       "      <td>0.669328</td>\n",
       "      <td>2.388443</td>\n",
       "    </tr>\n",
       "    <tr>\n",
       "      <th>5483</th>\n",
       "      <td>0.0004883</td>\n",
       "      <td>0.488300</td>\n",
       "      <td>0.000000</td>\n",
       "    </tr>\n",
       "  </tbody>\n",
       "</table>\n",
       "<p>5484 rows × 3 columns</p>\n",
       "</div>"
      ],
      "text/plain": [
       "                   CSI Value  Amplitude_m  Phase_rad\n",
       "0                          0     0.000000   0.000000\n",
       "1      -0.0004883-0.0004883i     0.690560  -2.356194\n",
       "2     -0.00097659-0.0014954i     1.786043  -2.149322\n",
       "3       0.0004883-0.0004883i     0.690560  -0.785398\n",
       "4                -0.00097659     0.976590   3.141593\n",
       "...                      ...          ...        ...\n",
       "5479   -0.0004883+0.0004883i     0.690560   2.356194\n",
       "5480            0-0.0004883i     0.488300  -1.570796\n",
       "5481            0-0.0004883i     0.488300  -1.570796\n",
       "5482  -0.0004883+0.00045778i     0.669328   2.388443\n",
       "5483               0.0004883     0.488300   0.000000\n",
       "\n",
       "[5484 rows x 3 columns]"
      ]
     },
     "execution_count": 55,
     "metadata": {},
     "output_type": "execute_result"
    }
   ],
   "source": [
    "label=[\"CSI Value\",\"Amplitude_m\", \"Phase_rad\"]\n",
    "final_dataset=pd.read_csv(\"/home/ranjit/Thesis/CSI_Matlab/CSI_Dataset_final/Sitting/Sitting_room_Phase.csv\",names=label)\n",
    "\n",
    "final_dataset.head(-10)"
   ]
  },
  {
   "cell_type": "markdown",
   "id": "6a188942",
   "metadata": {},
   "source": [
    "# Activity: Walking, Standing, Sitting, Get_down, Get_up, No_Person "
   ]
  },
  {
   "cell_type": "code",
   "execution_count": 56,
   "id": "7e43b91f",
   "metadata": {},
   "outputs": [],
   "source": [
    "import csv\n",
    "with open(\"/home/ranjit/Thesis/CSI_Matlab/CSI_Dataset_final/Sitting/Sitting_room_Phase.csv\",'r') as csvinput:\n",
    "    with open(\"/home/ranjit/Thesis/CSI_Matlab/CSI_Dataset_final/Sitting/Sitting_room_Activity.csv\", 'w') as csvoutput:\n",
    "        writer = csv.writer(csvoutput)\n",
    "        i=0\n",
    "        for row in csv.reader(csvinput):\n",
    "            row.append(\"Sitting\")\n",
    "            writer.writerow(row)\n",
    "            i+=1\n"
   ]
  },
  {
   "cell_type": "code",
   "execution_count": 57,
   "id": "d1f91b7a",
   "metadata": {},
   "outputs": [
    {
     "data": {
      "text/html": [
       "<div>\n",
       "<style scoped>\n",
       "    .dataframe tbody tr th:only-of-type {\n",
       "        vertical-align: middle;\n",
       "    }\n",
       "\n",
       "    .dataframe tbody tr th {\n",
       "        vertical-align: top;\n",
       "    }\n",
       "\n",
       "    .dataframe thead th {\n",
       "        text-align: right;\n",
       "    }\n",
       "</style>\n",
       "<table border=\"1\" class=\"dataframe\">\n",
       "  <thead>\n",
       "    <tr style=\"text-align: right;\">\n",
       "      <th></th>\n",
       "      <th>CSI Value</th>\n",
       "      <th>Amplitude_m</th>\n",
       "      <th>Phase_rad</th>\n",
       "      <th>Activity</th>\n",
       "    </tr>\n",
       "  </thead>\n",
       "  <tbody>\n",
       "    <tr>\n",
       "      <th>0</th>\n",
       "      <td>0</td>\n",
       "      <td>0.000000</td>\n",
       "      <td>0.000000</td>\n",
       "      <td>Sitting</td>\n",
       "    </tr>\n",
       "    <tr>\n",
       "      <th>1</th>\n",
       "      <td>-0.0004883-0.0004883i</td>\n",
       "      <td>0.690560</td>\n",
       "      <td>-2.356194</td>\n",
       "      <td>Sitting</td>\n",
       "    </tr>\n",
       "    <tr>\n",
       "      <th>2</th>\n",
       "      <td>-0.00097659-0.0014954i</td>\n",
       "      <td>1.786043</td>\n",
       "      <td>-2.149322</td>\n",
       "      <td>Sitting</td>\n",
       "    </tr>\n",
       "    <tr>\n",
       "      <th>3</th>\n",
       "      <td>0.0004883-0.0004883i</td>\n",
       "      <td>0.690560</td>\n",
       "      <td>-0.785398</td>\n",
       "      <td>Sitting</td>\n",
       "    </tr>\n",
       "    <tr>\n",
       "      <th>4</th>\n",
       "      <td>-0.00097659</td>\n",
       "      <td>0.976590</td>\n",
       "      <td>3.141593</td>\n",
       "      <td>Sitting</td>\n",
       "    </tr>\n",
       "    <tr>\n",
       "      <th>...</th>\n",
       "      <td>...</td>\n",
       "      <td>...</td>\n",
       "      <td>...</td>\n",
       "      <td>...</td>\n",
       "    </tr>\n",
       "    <tr>\n",
       "      <th>5479</th>\n",
       "      <td>-0.0004883+0.0004883i</td>\n",
       "      <td>0.690560</td>\n",
       "      <td>2.356194</td>\n",
       "      <td>Sitting</td>\n",
       "    </tr>\n",
       "    <tr>\n",
       "      <th>5480</th>\n",
       "      <td>0-0.0004883i</td>\n",
       "      <td>0.488300</td>\n",
       "      <td>-1.570796</td>\n",
       "      <td>Sitting</td>\n",
       "    </tr>\n",
       "    <tr>\n",
       "      <th>5481</th>\n",
       "      <td>0-0.0004883i</td>\n",
       "      <td>0.488300</td>\n",
       "      <td>-1.570796</td>\n",
       "      <td>Sitting</td>\n",
       "    </tr>\n",
       "    <tr>\n",
       "      <th>5482</th>\n",
       "      <td>-0.0004883+0.00045778i</td>\n",
       "      <td>0.669328</td>\n",
       "      <td>2.388443</td>\n",
       "      <td>Sitting</td>\n",
       "    </tr>\n",
       "    <tr>\n",
       "      <th>5483</th>\n",
       "      <td>0.0004883</td>\n",
       "      <td>0.488300</td>\n",
       "      <td>0.000000</td>\n",
       "      <td>Sitting</td>\n",
       "    </tr>\n",
       "  </tbody>\n",
       "</table>\n",
       "<p>5484 rows × 4 columns</p>\n",
       "</div>"
      ],
      "text/plain": [
       "                   CSI Value  Amplitude_m  Phase_rad Activity\n",
       "0                          0     0.000000   0.000000  Sitting\n",
       "1      -0.0004883-0.0004883i     0.690560  -2.356194  Sitting\n",
       "2     -0.00097659-0.0014954i     1.786043  -2.149322  Sitting\n",
       "3       0.0004883-0.0004883i     0.690560  -0.785398  Sitting\n",
       "4                -0.00097659     0.976590   3.141593  Sitting\n",
       "...                      ...          ...        ...      ...\n",
       "5479   -0.0004883+0.0004883i     0.690560   2.356194  Sitting\n",
       "5480            0-0.0004883i     0.488300  -1.570796  Sitting\n",
       "5481            0-0.0004883i     0.488300  -1.570796  Sitting\n",
       "5482  -0.0004883+0.00045778i     0.669328   2.388443  Sitting\n",
       "5483               0.0004883     0.488300   0.000000  Sitting\n",
       "\n",
       "[5484 rows x 4 columns]"
      ]
     },
     "execution_count": 57,
     "metadata": {},
     "output_type": "execute_result"
    }
   ],
   "source": [
    "label=[\"CSI Value\",\"Amplitude_m\", \"Phase_rad\",\"Activity\"]\n",
    "final_dataset=pd.read_csv(\"/home/ranjit/Thesis/CSI_Matlab/CSI_Dataset_final/Sitting/Sitting_room_Activity.csv\",names=label)\n",
    "\n",
    "final_dataset.head(-10)"
   ]
  },
  {
   "cell_type": "code",
   "execution_count": 58,
   "id": "9df01d2e",
   "metadata": {},
   "outputs": [
    {
     "name": "stdout",
     "output_type": "stream",
     "text": [
      "<class 'pandas.core.frame.DataFrame'>\n",
      "RangeIndex: 5494 entries, 0 to 5493\n",
      "Data columns (total 4 columns):\n",
      " #   Column       Non-Null Count  Dtype  \n",
      "---  ------       --------------  -----  \n",
      " 0   CSI Value    5494 non-null   object \n",
      " 1   Amplitude_m  5494 non-null   float64\n",
      " 2   Phase_rad    5494 non-null   float64\n",
      " 3   Activity     5494 non-null   object \n",
      "dtypes: float64(2), object(2)\n",
      "memory usage: 171.8+ KB\n"
     ]
    }
   ],
   "source": [
    "final_dataset.info()"
   ]
  },
  {
   "cell_type": "code",
   "execution_count": 59,
   "id": "532685bc",
   "metadata": {},
   "outputs": [
    {
     "data": {
      "text/plain": [
       "<AxesSubplot:title={'center':'Total number of sample Vs Activity'}>"
      ]
     },
     "execution_count": 59,
     "metadata": {},
     "output_type": "execute_result"
    },
    {
     "data": {
      "image/png": "[encoded data removed]",
      "text/plain": [
       "<Figure size 432x288 with 1 Axes>"
      ]
     },
     "metadata": {},
     "output_type": "display_data"
    }
   ],
   "source": [
    "sns.set(color_codes=True)\n",
    "final_dataset['Activity'].value_counts().plot(kind='bar',color=\"dodgerblue\",title='Total number of sample Vs Activity')\n"
   ]
  },
  {
   "cell_type": "code",
   "execution_count": null,
   "id": "f8f8194b",
   "metadata": {},
   "outputs": [],
   "source": []
  },
  {
   "cell_type": "code",
   "execution_count": null,
   "id": "2a94329f",
   "metadata": {},
   "outputs": [],
   "source": []
  },
  {
   "cell_type": "markdown",
   "id": "250ad96e",
   "metadata": {},
   "source": [
    "# Final Dataset preparation"
   ]
  },
  {
   "cell_type": "code",
   "execution_count": 108,
   "id": "f3bbe8e7",
   "metadata": {},
   "outputs": [
    {
     "name": "stdout",
     "output_type": "stream",
     "text": [
      "All data append in list successfully\n"
     ]
    }
   ],
   "source": [
    "import csv\n",
    "row_csi=[]\n",
    "csi_amp=[]\n",
    "csi_phs=[]\n",
    "csi_activity=[]\n",
    "with open(\"/home/ranjit/Thesis/CSI_Matlab/CSI_Dataset_final/Sitting/Sitting_room_Phase.csv\",'r') as csvinput:    \n",
    "        for row in csv.reader(csvinput):\n",
    "            row_csi.append(row[0])\n",
    "            csi_amp.append(row[1])\n",
    "            csi_phs.append(row[2])\n",
    "            csi_activity.append(\"Sitting\")\n",
    "            \n",
    "print(\"All data append in list successfully\")            \n",
    "           "
   ]
  },
  {
   "cell_type": "code",
   "execution_count": 123,
   "id": "a8b667a3",
   "metadata": {},
   "outputs": [],
   "source": [
    "# print(csi_amp)"
   ]
  },
  {
   "cell_type": "code",
   "execution_count": null,
   "id": "31030666",
   "metadata": {},
   "outputs": [],
   "source": []
  },
  {
   "cell_type": "code",
   "execution_count": 121,
   "id": "0186c356",
   "metadata": {},
   "outputs": [
    {
     "data": {
      "text/html": [
       "<div>\n",
       "<style scoped>\n",
       "    .dataframe tbody tr th:only-of-type {\n",
       "        vertical-align: middle;\n",
       "    }\n",
       "\n",
       "    .dataframe tbody tr th {\n",
       "        vertical-align: top;\n",
       "    }\n",
       "\n",
       "    .dataframe thead th {\n",
       "        text-align: right;\n",
       "    }\n",
       "</style>\n",
       "<table border=\"1\" class=\"dataframe\">\n",
       "  <thead>\n",
       "    <tr style=\"text-align: right;\">\n",
       "      <th></th>\n",
       "      <th>CSI_Value</th>\n",
       "      <th>Amplitude_m</th>\n",
       "      <th>Phase_rad</th>\n",
       "      <th>Activity</th>\n",
       "    </tr>\n",
       "  </thead>\n",
       "  <tbody>\n",
       "    <tr>\n",
       "      <th>0</th>\n",
       "      <td>0.0004883+0.0004883i</td>\n",
       "      <td>0.690560</td>\n",
       "      <td>0.785398</td>\n",
       "      <td>Walking</td>\n",
       "    </tr>\n",
       "    <tr>\n",
       "      <th>1</th>\n",
       "      <td>0-0.0004883i</td>\n",
       "      <td>0.488300</td>\n",
       "      <td>-1.570796</td>\n",
       "      <td>Walking</td>\n",
       "    </tr>\n",
       "    <tr>\n",
       "      <th>2</th>\n",
       "      <td>0.00045778+0.0004883i</td>\n",
       "      <td>0.669328</td>\n",
       "      <td>0.817646</td>\n",
       "      <td>Walking</td>\n",
       "    </tr>\n",
       "    <tr>\n",
       "      <th>3</th>\n",
       "      <td>0.0004883-0.0004883i</td>\n",
       "      <td>0.690560</td>\n",
       "      <td>-0.785398</td>\n",
       "      <td>Walking</td>\n",
       "    </tr>\n",
       "    <tr>\n",
       "      <th>4</th>\n",
       "      <td>0-3.0519e-05i</td>\n",
       "      <td>0.030519</td>\n",
       "      <td>-1.570796</td>\n",
       "      <td>Walking</td>\n",
       "    </tr>\n",
       "    <tr>\n",
       "      <th>...</th>\n",
       "      <td>...</td>\n",
       "      <td>...</td>\n",
       "      <td>...</td>\n",
       "      <td>...</td>\n",
       "    </tr>\n",
       "    <tr>\n",
       "      <th>112485</th>\n",
       "      <td>0.0004883-0.00051881i</td>\n",
       "      <td>0.712461</td>\n",
       "      <td>-0.815684</td>\n",
       "      <td>Walking</td>\n",
       "    </tr>\n",
       "    <tr>\n",
       "      <th>112486</th>\n",
       "      <td>0.00045778</td>\n",
       "      <td>0.457780</td>\n",
       "      <td>0.000000</td>\n",
       "      <td>Walking</td>\n",
       "    </tr>\n",
       "    <tr>\n",
       "      <th>112487</th>\n",
       "      <td>-0.0004883-0.0004883i</td>\n",
       "      <td>0.690560</td>\n",
       "      <td>-2.356194</td>\n",
       "      <td>Walking</td>\n",
       "    </tr>\n",
       "    <tr>\n",
       "      <th>112488</th>\n",
       "      <td>0</td>\n",
       "      <td>0.000000</td>\n",
       "      <td>0.000000</td>\n",
       "      <td>Walking</td>\n",
       "    </tr>\n",
       "    <tr>\n",
       "      <th>112489</th>\n",
       "      <td>0.0004883-3.0519e-05i</td>\n",
       "      <td>0.489253</td>\n",
       "      <td>-0.062419</td>\n",
       "      <td>Walking</td>\n",
       "    </tr>\n",
       "  </tbody>\n",
       "</table>\n",
       "<p>112490 rows × 4 columns</p>\n",
       "</div>"
      ],
      "text/plain": [
       "                    CSI_Value  Amplitude_m  Phase_rad Activity\n",
       "0        0.0004883+0.0004883i     0.690560   0.785398  Walking\n",
       "1                0-0.0004883i     0.488300  -1.570796  Walking\n",
       "2       0.00045778+0.0004883i     0.669328   0.817646  Walking\n",
       "3        0.0004883-0.0004883i     0.690560  -0.785398  Walking\n",
       "4               0-3.0519e-05i     0.030519  -1.570796  Walking\n",
       "...                       ...          ...        ...      ...\n",
       "112485  0.0004883-0.00051881i     0.712461  -0.815684  Walking\n",
       "112486             0.00045778     0.457780   0.000000  Walking\n",
       "112487  -0.0004883-0.0004883i     0.690560  -2.356194  Walking\n",
       "112488                      0     0.000000   0.000000  Walking\n",
       "112489  0.0004883-3.0519e-05i     0.489253  -0.062419  Walking\n",
       "\n",
       "[112490 rows x 4 columns]"
      ]
     },
     "execution_count": 121,
     "metadata": {},
     "output_type": "execute_result"
    }
   ],
   "source": [
    "\n",
    "\n",
    "df=pd.read_csv(\"/home/ranjit/Thesis/CSI_Matlab/CSI_Dataset_final/All_Activity_room.csv\")\n",
    "\n",
    "df.head(-10)"
   ]
  },
  {
   "cell_type": "code",
   "execution_count": 125,
   "id": "a90fb592",
   "metadata": {},
   "outputs": [],
   "source": [
    "\n",
    "# data = {'CSI_Value': row_csi,\"Amplitude_m\":csi_amp, \"Phase_rad\":csi_phs, \"Activity\":csi_activity } #, 'Run':r ,'Wicket': w,'Catch':c \n",
    " \n",
    "# # Make data frame of above data\n",
    "# df = pd.DataFrame(data)\n",
    " \n",
    "# # append data frame to CSV file\n",
    "# df.to_csv('/home/ranjit/Thesis/CSI_Matlab/CSI_Dataset_final/final_dataset.csv', mode='a', index=False, header=False)\n",
    " \n",
    "# # print message\n",
    "\n",
    "# print(\"Data appended to final dataset successfully.\")\n"
   ]
  },
  {
   "cell_type": "code",
   "execution_count": 126,
   "id": "2eaf5bb8",
   "metadata": {},
   "outputs": [
    {
     "data": {
      "text/html": [
       "<div>\n",
       "<style scoped>\n",
       "    .dataframe tbody tr th:only-of-type {\n",
       "        vertical-align: middle;\n",
       "    }\n",
       "\n",
       "    .dataframe tbody tr th {\n",
       "        vertical-align: top;\n",
       "    }\n",
       "\n",
       "    .dataframe thead th {\n",
       "        text-align: right;\n",
       "    }\n",
       "</style>\n",
       "<table border=\"1\" class=\"dataframe\">\n",
       "  <thead>\n",
       "    <tr style=\"text-align: right;\">\n",
       "      <th></th>\n",
       "      <th>CSI_Value</th>\n",
       "      <th>Amplitude_m</th>\n",
       "      <th>Phase_rad</th>\n",
       "      <th>Activity</th>\n",
       "    </tr>\n",
       "  </thead>\n",
       "  <tbody>\n",
       "    <tr>\n",
       "      <th>0</th>\n",
       "      <td>0.0004883+0.0004883i</td>\n",
       "      <td>0.690560</td>\n",
       "      <td>0.785398</td>\n",
       "      <td>Walking</td>\n",
       "    </tr>\n",
       "    <tr>\n",
       "      <th>1</th>\n",
       "      <td>0-0.0004883i</td>\n",
       "      <td>0.488300</td>\n",
       "      <td>-1.570796</td>\n",
       "      <td>Walking</td>\n",
       "    </tr>\n",
       "    <tr>\n",
       "      <th>2</th>\n",
       "      <td>0.00045778+0.0004883i</td>\n",
       "      <td>0.669328</td>\n",
       "      <td>0.817646</td>\n",
       "      <td>Walking</td>\n",
       "    </tr>\n",
       "    <tr>\n",
       "      <th>3</th>\n",
       "      <td>0.0004883-0.0004883i</td>\n",
       "      <td>0.690560</td>\n",
       "      <td>-0.785398</td>\n",
       "      <td>Walking</td>\n",
       "    </tr>\n",
       "    <tr>\n",
       "      <th>4</th>\n",
       "      <td>0-3.0519e-05i</td>\n",
       "      <td>0.030519</td>\n",
       "      <td>-1.570796</td>\n",
       "      <td>Walking</td>\n",
       "    </tr>\n",
       "    <tr>\n",
       "      <th>...</th>\n",
       "      <td>...</td>\n",
       "      <td>...</td>\n",
       "      <td>...</td>\n",
       "      <td>...</td>\n",
       "    </tr>\n",
       "    <tr>\n",
       "      <th>117978</th>\n",
       "      <td>-0.0004883+0.0004883i</td>\n",
       "      <td>0.690560</td>\n",
       "      <td>2.356194</td>\n",
       "      <td>Sitting</td>\n",
       "    </tr>\n",
       "    <tr>\n",
       "      <th>117979</th>\n",
       "      <td>0-0.0004883i</td>\n",
       "      <td>0.488300</td>\n",
       "      <td>-1.570796</td>\n",
       "      <td>Sitting</td>\n",
       "    </tr>\n",
       "    <tr>\n",
       "      <th>117980</th>\n",
       "      <td>0-0.0004883i</td>\n",
       "      <td>0.488300</td>\n",
       "      <td>-1.570796</td>\n",
       "      <td>Sitting</td>\n",
       "    </tr>\n",
       "    <tr>\n",
       "      <th>117981</th>\n",
       "      <td>-0.0004883+0.00045778i</td>\n",
       "      <td>0.669328</td>\n",
       "      <td>2.388443</td>\n",
       "      <td>Sitting</td>\n",
       "    </tr>\n",
       "    <tr>\n",
       "      <th>117982</th>\n",
       "      <td>0.0004883</td>\n",
       "      <td>0.488300</td>\n",
       "      <td>0.000000</td>\n",
       "      <td>Sitting</td>\n",
       "    </tr>\n",
       "  </tbody>\n",
       "</table>\n",
       "<p>117983 rows × 4 columns</p>\n",
       "</div>"
      ],
      "text/plain": [
       "                     CSI_Value  Amplitude_m  Phase_rad Activity\n",
       "0         0.0004883+0.0004883i     0.690560   0.785398  Walking\n",
       "1                 0-0.0004883i     0.488300  -1.570796  Walking\n",
       "2        0.00045778+0.0004883i     0.669328   0.817646  Walking\n",
       "3         0.0004883-0.0004883i     0.690560  -0.785398  Walking\n",
       "4                0-3.0519e-05i     0.030519  -1.570796  Walking\n",
       "...                        ...          ...        ...      ...\n",
       "117978   -0.0004883+0.0004883i     0.690560   2.356194  Sitting\n",
       "117979            0-0.0004883i     0.488300  -1.570796  Sitting\n",
       "117980            0-0.0004883i     0.488300  -1.570796  Sitting\n",
       "117981  -0.0004883+0.00045778i     0.669328   2.388443  Sitting\n",
       "117982               0.0004883     0.488300   0.000000  Sitting\n",
       "\n",
       "[117983 rows x 4 columns]"
      ]
     },
     "execution_count": 126,
     "metadata": {},
     "output_type": "execute_result"
    }
   ],
   "source": [
    "df=pd.read_csv(\"/home/ranjit/Thesis/CSI_Matlab/CSI_Dataset_final/final_dataset.csv\")\n",
    "\n",
    "df.head(-10)"
   ]
  },
  {
   "cell_type": "code",
   "execution_count": null,
   "id": "5f32773f",
   "metadata": {},
   "outputs": [],
   "source": []
  }
 ],
 "metadata": {
  "kernelspec": {
   "display_name": "Python 3 (ipykernel)",
   "language": "python",
   "name": "python3"
  },
  "language_info": {
   "codemirror_mode": {
    "name": "ipython",
    "version": 3
   },
   "file_extension": ".py",
   "mimetype": "text/x-python",
   "name": "python",
   "nbconvert_exporter": "python",
   "pygments_lexer": "ipython3",
   "version": "3.9.7"
  }
 },
 "nbformat": 4,
 "nbformat_minor": 5
}
