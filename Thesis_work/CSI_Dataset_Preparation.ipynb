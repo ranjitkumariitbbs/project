{
 "cells": [
  {
   "cell_type": "code",
   "execution_count": 2,
   "id": "6b480993",
   "metadata": {},
   "outputs": [],
   "source": [
    "import pandas as pd\n",
    "import matplotlib.pyplot as plt\n",
    "import numpy as np\n",
    "import seaborn as sns"
   ]
  },
  {
   "cell_type": "markdown",
   "id": "cbdf37f6",
   "metadata": {},
   "source": [
    "# Load Wi-Fi CSI raw data"
   ]
  },
  {
   "cell_type": "code",
   "execution_count": 245,
   "id": "d3df36a8",
   "metadata": {},
   "outputs": [
    {
     "data": {
      "text/html": [
       "<div>\n",
       "<style scoped>\n",
       "    .dataframe tbody tr th:only-of-type {\n",
       "        vertical-align: middle;\n",
       "    }\n",
       "\n",
       "    .dataframe tbody tr th {\n",
       "        vertical-align: top;\n",
       "    }\n",
       "\n",
       "    .dataframe thead th {\n",
       "        text-align: right;\n",
       "    }\n",
       "</style>\n",
       "<table border=\"1\" class=\"dataframe\">\n",
       "  <thead>\n",
       "    <tr style=\"text-align: right;\">\n",
       "      <th></th>\n",
       "      <th>CSI_Value</th>\n",
       "    </tr>\n",
       "  </thead>\n",
       "  <tbody>\n",
       "    <tr>\n",
       "      <th>0</th>\n",
       "      <td>0</td>\n",
       "    </tr>\n",
       "    <tr>\n",
       "      <th>1</th>\n",
       "      <td>-0.0004883+0.0004883i</td>\n",
       "    </tr>\n",
       "    <tr>\n",
       "      <th>2</th>\n",
       "      <td>-0.0004883+0.00045778i</td>\n",
       "    </tr>\n",
       "    <tr>\n",
       "      <th>3</th>\n",
       "      <td>-0.0004883</td>\n",
       "    </tr>\n",
       "    <tr>\n",
       "      <th>4</th>\n",
       "      <td>0+0.0004883i</td>\n",
       "    </tr>\n",
       "    <tr>\n",
       "      <th>...</th>\n",
       "      <td>...</td>\n",
       "    </tr>\n",
       "    <tr>\n",
       "      <th>16465</th>\n",
       "      <td>0.0004883-0.0004883i</td>\n",
       "    </tr>\n",
       "    <tr>\n",
       "      <th>16466</th>\n",
       "      <td>0.00094607-3.0519e-05i</td>\n",
       "    </tr>\n",
       "    <tr>\n",
       "      <th>16467</th>\n",
       "      <td>0.00045778+0.0004883i</td>\n",
       "    </tr>\n",
       "    <tr>\n",
       "      <th>16468</th>\n",
       "      <td>-0.0004883+0.00097659i</td>\n",
       "    </tr>\n",
       "    <tr>\n",
       "      <th>16469</th>\n",
       "      <td>0.0004883+0.00097659i</td>\n",
       "    </tr>\n",
       "  </tbody>\n",
       "</table>\n",
       "<p>16470 rows × 1 columns</p>\n",
       "</div>"
      ],
      "text/plain": [
       "                    CSI_Value\n",
       "0                           0\n",
       "1       -0.0004883+0.0004883i\n",
       "2      -0.0004883+0.00045778i\n",
       "3                  -0.0004883\n",
       "4                0+0.0004883i\n",
       "...                       ...\n",
       "16465    0.0004883-0.0004883i\n",
       "16466  0.00094607-3.0519e-05i\n",
       "16467   0.00045778+0.0004883i\n",
       "16468  -0.0004883+0.00097659i\n",
       "16469   0.0004883+0.00097659i\n",
       "\n",
       "[16470 rows x 1 columns]"
      ]
     },
     "execution_count": 245,
     "metadata": {},
     "output_type": "execute_result"
    }
   ],
   "source": [
    "label=[\"CSI_Value\"]\n",
    "dataset=pd.read_csv(\"/home/ranjit/Thesis/CSI_Matlab/CSI_Dataset_final/Falling/Falling_room_Raw_CSI.csv\",names=label)\n",
    "dataset.head(-10)"
   ]
  },
  {
   "cell_type": "markdown",
   "id": "b2a0ce64",
   "metadata": {},
   "source": [
    "# Drop duplicate CSI data (i.e repeated CSI data)"
   ]
  },
  {
   "cell_type": "code",
   "execution_count": 246,
   "id": "8c3d9db8",
   "metadata": {
    "scrolled": true
   },
   "outputs": [
    {
     "data": {
      "text/html": [
       "<div>\n",
       "<style scoped>\n",
       "    .dataframe tbody tr th:only-of-type {\n",
       "        vertical-align: middle;\n",
       "    }\n",
       "\n",
       "    .dataframe tbody tr th {\n",
       "        vertical-align: top;\n",
       "    }\n",
       "\n",
       "    .dataframe thead th {\n",
       "        text-align: right;\n",
       "    }\n",
       "</style>\n",
       "<table border=\"1\" class=\"dataframe\">\n",
       "  <thead>\n",
       "    <tr style=\"text-align: right;\">\n",
       "      <th></th>\n",
       "      <th>CSI_Value</th>\n",
       "    </tr>\n",
       "  </thead>\n",
       "  <tbody>\n",
       "    <tr>\n",
       "      <th>790</th>\n",
       "      <td>-0.0014954-0.00045778i</td>\n",
       "    </tr>\n",
       "    <tr>\n",
       "      <th>1572</th>\n",
       "      <td>-0.0014954-0.0014649i</td>\n",
       "    </tr>\n",
       "    <tr>\n",
       "      <th>2256</th>\n",
       "      <td>0.00094607+0.0014649i</td>\n",
       "    </tr>\n",
       "    <tr>\n",
       "      <th>2456</th>\n",
       "      <td>-0.0019532+0.0004883i</td>\n",
       "    </tr>\n",
       "    <tr>\n",
       "      <th>2530</th>\n",
       "      <td>-0.00094607+0.0004883i</td>\n",
       "    </tr>\n",
       "  </tbody>\n",
       "</table>\n",
       "</div>"
      ],
      "text/plain": [
       "                   CSI_Value\n",
       "790   -0.0014954-0.00045778i\n",
       "1572   -0.0014954-0.0014649i\n",
       "2256   0.00094607+0.0014649i\n",
       "2456   -0.0019532+0.0004883i\n",
       "2530  -0.00094607+0.0004883i"
      ]
     },
     "execution_count": 246,
     "metadata": {},
     "output_type": "execute_result"
    }
   ],
   "source": [
    "dataset.drop_duplicates(subset =\"CSI_Value\",keep = False, inplace = True)\n",
    "dataset.head()"
   ]
  },
  {
   "cell_type": "markdown",
   "id": "b3a4e230",
   "metadata": {},
   "source": [
    "# Insert CSI data into a list"
   ]
  },
  {
   "cell_type": "code",
   "execution_count": 247,
   "id": "4f5b917c",
   "metadata": {},
   "outputs": [
    {
     "name": "stdout",
     "output_type": "stream",
     "text": [
      "[['-0.0014954-0.00045778i']\n",
      " ['-0.0014954-0.0014649i']\n",
      " ['0.00094607+0.0014649i']\n",
      " ['-0.0019532+0.0004883i']\n",
      " ['-0.00094607+0.0004883i']\n",
      " ['0.00097659+0.0019532i']\n",
      " ['-0.00045778+0.0014649i']\n",
      " ['0.00097659-0.0014954i']\n",
      " ['-3.0519e-05-0.0014954i']\n",
      " ['0.0004883+0.0014344i']\n",
      " ['0.0014649-0.00097659i']\n",
      " ['-0.0014649-3.0519e-05i']\n",
      " ['0.0019532+0.00045778i']\n",
      " ['-3.0519e-05-0.0019532i']\n",
      " ['0+0.0014344i']\n",
      " ['0.00094607+0.00094607i']\n",
      " ['-0.00097659+0.0014649i']\n",
      " ['0.0004883-0.0014954i']\n",
      " ['-0.00051881-3.0519e-05i']\n",
      " ['-0.0019532']\n",
      " ['-0.0014649+0.00097659i']\n",
      " ['0.0010071+0.00097659i']\n",
      " ['-0.0014649+0.00051881i']\n",
      " ['-0.0004883-0.00094607i']\n",
      " ['0.00051881+0.00094607i']\n",
      " ['-0.00097659-0.0019532i']\n",
      " ['0.0014649+0.00097659i']\n",
      " ['3.0519e-05+0.0014649i']\n",
      " ['0.0014344-0.00051881i']\n",
      " ['0-0.0019532i']\n",
      " ['-0.0010071-0.0014649i']\n",
      " ['-0.00094607+0.00097659i']\n",
      " ['-0.00094607+0.00094607i']]\n"
     ]
    }
   ],
   "source": [
    "X=dataset.values\n",
    "lis=X.tolist()\n",
    "print(X)\n",
    "# print(lis)\n"
   ]
  },
  {
   "cell_type": "markdown",
   "id": "dfdae96c",
   "metadata": {},
   "source": [
    "# Replace \"i\" of complex number to \"j\" \n",
    "Since complex number in python is written as: a + bj"
   ]
  },
  {
   "cell_type": "code",
   "execution_count": 248,
   "id": "b3d6ceae",
   "metadata": {},
   "outputs": [],
   "source": [
    "lis1=[]\n",
    "k=-1\n",
    "for i in lis:\n",
    "    k+=1\n",
    "    for s in lis[k]:\n",
    "        s = s.replace('i', 'j')\n",
    "        v = complex(s)\n",
    "        lis1.append(v)\n"
   ]
  },
  {
   "cell_type": "code",
   "execution_count": 249,
   "id": "7137e395",
   "metadata": {},
   "outputs": [
    {
     "name": "stdout",
     "output_type": "stream",
     "text": [
      "[(-0.0014954-0.00045778j), (-0.0014954-0.0014649j), (0.00094607+0.0014649j), (-0.0019532+0.0004883j), (-0.00094607+0.0004883j), (0.00097659+0.0019532j), (-0.00045778+0.0014649j), (0.00097659-0.0014954j), (-3.0519e-05-0.0014954j), (0.0004883+0.0014344j), (0.0014649-0.00097659j), (-0.0014649-3.0519e-05j), (0.0019532+0.00045778j), (-3.0519e-05-0.0019532j), 0.0014344j, (0.00094607+0.00094607j), (-0.00097659+0.0014649j), (0.0004883-0.0014954j), (-0.00051881-3.0519e-05j), (-0.0019532+0j), (-0.0014649+0.00097659j), (0.0010071+0.00097659j), (-0.0014649+0.00051881j), (-0.0004883-0.00094607j), (0.00051881+0.00094607j), (-0.00097659-0.0019532j), (0.0014649+0.00097659j), (3.0519e-05+0.0014649j), (0.0014344-0.00051881j), -0.0019532j, (-0.0010071-0.0014649j), (-0.00094607+0.00097659j), (-0.00094607+0.00094607j)]\n"
     ]
    }
   ],
   "source": [
    "print(lis1)"
   ]
  },
  {
   "cell_type": "markdown",
   "id": "c0685039",
   "metadata": {},
   "source": [
    "# Append Amplitude information in dataset"
   ]
  },
  {
   "cell_type": "code",
   "execution_count": 250,
   "id": "c3a01654",
   "metadata": {},
   "outputs": [],
   "source": [
    "amplitudes=[]\n",
    "for i in lis1:\n",
    "    amp=abs(i)*1000 # Scale-up by 100 unit\n",
    "    amplitudes.append(amp)"
   ]
  },
  {
   "cell_type": "code",
   "execution_count": 251,
   "id": "4f040d45",
   "metadata": {},
   "outputs": [
    {
     "name": "stdout",
     "output_type": "stream",
     "text": [
      "[1.5639001529509484, 2.0933593026520794, 1.7438407194752623, 2.0133124769891038, 1.0646526827562124, 2.1837395147086567, 1.5347620461817526, 1.7860428852913919, 1.4957113924019567, 1.5152360377182164]\n",
      "\n",
      "Maximum amplitude value= 2.1837395147086567\n"
     ]
    }
   ],
   "source": [
    "print(amplitudes[:10])\n",
    "print(\"\\nMaximum amplitude value=\",max(amplitudes))\n"
   ]
  },
  {
   "cell_type": "code",
   "execution_count": 252,
   "id": "539ae923",
   "metadata": {},
   "outputs": [
    {
     "name": "stdout",
     "output_type": "stream",
     "text": [
      "Amplitude data appended successfully\n"
     ]
    }
   ],
   "source": [
    "\n",
    "import csv\n",
    "with open(\"/home/ranjit/Thesis/CSI_Matlab/CSI_Dataset_final/Falling/Falling_room_Raw_CSI.csv\",'r') as csvinput:\n",
    "    with open(\"/home/ranjit/Thesis/CSI_Matlab/CSI_Dataset_final/Falling/Falling_room_Amp.csv\", 'w') as csvoutput:\n",
    "        writer = csv.writer(csvoutput)\n",
    "        i=0\n",
    "        for row in csv.reader(csvinput):\n",
    "            row.append(amplitudes[i])\n",
    "            writer.writerow(row)\n",
    "            i+=1\n",
    "            if i==len(amplitudes):\n",
    "                break\n",
    "\n",
    "print(\"Amplitude data appended successfully\")\n",
    "            "
   ]
  },
  {
   "cell_type": "code",
   "execution_count": 253,
   "id": "103f853d",
   "metadata": {},
   "outputs": [
    {
     "data": {
      "text/html": [
       "<div>\n",
       "<style scoped>\n",
       "    .dataframe tbody tr th:only-of-type {\n",
       "        vertical-align: middle;\n",
       "    }\n",
       "\n",
       "    .dataframe tbody tr th {\n",
       "        vertical-align: top;\n",
       "    }\n",
       "\n",
       "    .dataframe thead th {\n",
       "        text-align: right;\n",
       "    }\n",
       "</style>\n",
       "<table border=\"1\" class=\"dataframe\">\n",
       "  <thead>\n",
       "    <tr style=\"text-align: right;\">\n",
       "      <th></th>\n",
       "      <th>CSI_Value</th>\n",
       "      <th>Amplitude_m</th>\n",
       "    </tr>\n",
       "  </thead>\n",
       "  <tbody>\n",
       "    <tr>\n",
       "      <th>0</th>\n",
       "      <td>0</td>\n",
       "      <td>1.563900</td>\n",
       "    </tr>\n",
       "    <tr>\n",
       "      <th>1</th>\n",
       "      <td>-0.0004883+0.0004883i</td>\n",
       "      <td>2.093359</td>\n",
       "    </tr>\n",
       "    <tr>\n",
       "      <th>2</th>\n",
       "      <td>-0.0004883+0.00045778i</td>\n",
       "      <td>1.743841</td>\n",
       "    </tr>\n",
       "    <tr>\n",
       "      <th>3</th>\n",
       "      <td>-0.0004883</td>\n",
       "      <td>2.013312</td>\n",
       "    </tr>\n",
       "    <tr>\n",
       "      <th>4</th>\n",
       "      <td>0+0.0004883i</td>\n",
       "      <td>1.064653</td>\n",
       "    </tr>\n",
       "    <tr>\n",
       "      <th>5</th>\n",
       "      <td>0</td>\n",
       "      <td>2.183740</td>\n",
       "    </tr>\n",
       "    <tr>\n",
       "      <th>6</th>\n",
       "      <td>0.00045778</td>\n",
       "      <td>1.534762</td>\n",
       "    </tr>\n",
       "    <tr>\n",
       "      <th>7</th>\n",
       "      <td>-0.0004883</td>\n",
       "      <td>1.786043</td>\n",
       "    </tr>\n",
       "    <tr>\n",
       "      <th>8</th>\n",
       "      <td>-0.0004883</td>\n",
       "      <td>1.495711</td>\n",
       "    </tr>\n",
       "    <tr>\n",
       "      <th>9</th>\n",
       "      <td>-0.0004883-0.0004883i</td>\n",
       "      <td>1.515236</td>\n",
       "    </tr>\n",
       "  </tbody>\n",
       "</table>\n",
       "</div>"
      ],
      "text/plain": [
       "                CSI_Value  Amplitude_m\n",
       "0                       0     1.563900\n",
       "1   -0.0004883+0.0004883i     2.093359\n",
       "2  -0.0004883+0.00045778i     1.743841\n",
       "3              -0.0004883     2.013312\n",
       "4            0+0.0004883i     1.064653\n",
       "5                       0     2.183740\n",
       "6              0.00045778     1.534762\n",
       "7              -0.0004883     1.786043\n",
       "8              -0.0004883     1.495711\n",
       "9   -0.0004883-0.0004883i     1.515236"
      ]
     },
     "execution_count": 253,
     "metadata": {},
     "output_type": "execute_result"
    }
   ],
   "source": [
    "label=[\"CSI_Value\",\"Amplitude_m\"]\n",
    "df_amp=pd.read_csv(\"/home/ranjit/Thesis/CSI_Matlab/CSI_Dataset_final/Falling/Falling_room_Amp.csv\",names=label)\n",
    "df_amp.head(10)"
   ]
  },
  {
   "cell_type": "markdown",
   "id": "5f734bf3",
   "metadata": {},
   "source": [
    "# Append Phase information in dataset"
   ]
  },
  {
   "cell_type": "code",
   "execution_count": 254,
   "id": "e7da7299",
   "metadata": {},
   "outputs": [],
   "source": [
    "# importing \"cmath\" for complex number operations\n",
    "\n",
    "import cmath\n",
    "amplitudes=[]\n",
    "phases=[]\n",
    "for i in lis1:\n",
    "    out_phase=cmath.phase(i)\n",
    "    phases.append(out_phase)\n",
    "    "
   ]
  },
  {
   "cell_type": "code",
   "execution_count": 255,
   "id": "bc2d2470",
   "metadata": {},
   "outputs": [
    {
     "name": "stdout",
     "output_type": "stream",
     "text": [
      "[-2.844525696097374, -2.366497135483908, 0.9973612199670133, 2.896613990462929, 2.665120387716006, 1.107152813645198, 1.873680417785533, -0.9922710600022107, -1.5912020803714104, 1.2426804195716306]\n",
      "\n",
      "Maximum phase value= 3.141592653589793\n"
     ]
    }
   ],
   "source": [
    "print(phases[0:10])\n",
    "print(\"\\nMaximum phase value=\",max(phases))\n"
   ]
  },
  {
   "cell_type": "code",
   "execution_count": 256,
   "id": "c62d2518",
   "metadata": {},
   "outputs": [
    {
     "name": "stdout",
     "output_type": "stream",
     "text": [
      "Phase appended successfully\n"
     ]
    }
   ],
   "source": [
    "import csv\n",
    "with open(\"/home/ranjit/Thesis/CSI_Matlab/CSI_Dataset_final/Falling/Falling_room_Amp.csv\",'r') as csvinput:\n",
    "    with open(\"/home/ranjit/Thesis/CSI_Matlab/CSI_Dataset_final/Falling/Falling_room_Phase.csv\", 'w') as csvoutput:\n",
    "        writer = csv.writer(csvoutput)\n",
    "        j=0\n",
    "        for phs_row in csv.reader(csvinput):\n",
    "            phs_row.append(phases[j])\n",
    "            writer.writerow(phs_row)\n",
    "            j+=1\n",
    "            if j==len(phases):\n",
    "                break\n",
    "#            print(row)\n",
    "\n",
    "print(\"Phase appended successfully\")\n",
    "            "
   ]
  },
  {
   "cell_type": "code",
   "execution_count": 257,
   "id": "dd807e55",
   "metadata": {},
   "outputs": [
    {
     "data": {
      "text/html": [
       "<div>\n",
       "<style scoped>\n",
       "    .dataframe tbody tr th:only-of-type {\n",
       "        vertical-align: middle;\n",
       "    }\n",
       "\n",
       "    .dataframe tbody tr th {\n",
       "        vertical-align: top;\n",
       "    }\n",
       "\n",
       "    .dataframe thead th {\n",
       "        text-align: right;\n",
       "    }\n",
       "</style>\n",
       "<table border=\"1\" class=\"dataframe\">\n",
       "  <thead>\n",
       "    <tr style=\"text-align: right;\">\n",
       "      <th></th>\n",
       "      <th>CSI Value</th>\n",
       "      <th>Amplitude_m</th>\n",
       "      <th>Phase_rad</th>\n",
       "    </tr>\n",
       "  </thead>\n",
       "  <tbody>\n",
       "    <tr>\n",
       "      <th>0</th>\n",
       "      <td>0</td>\n",
       "      <td>1.563900</td>\n",
       "      <td>-2.844526</td>\n",
       "    </tr>\n",
       "    <tr>\n",
       "      <th>1</th>\n",
       "      <td>-0.0004883+0.0004883i</td>\n",
       "      <td>2.093359</td>\n",
       "      <td>-2.366497</td>\n",
       "    </tr>\n",
       "    <tr>\n",
       "      <th>2</th>\n",
       "      <td>-0.0004883+0.00045778i</td>\n",
       "      <td>1.743841</td>\n",
       "      <td>0.997361</td>\n",
       "    </tr>\n",
       "    <tr>\n",
       "      <th>3</th>\n",
       "      <td>-0.0004883</td>\n",
       "      <td>2.013312</td>\n",
       "      <td>2.896614</td>\n",
       "    </tr>\n",
       "    <tr>\n",
       "      <th>4</th>\n",
       "      <td>0+0.0004883i</td>\n",
       "      <td>1.064653</td>\n",
       "      <td>2.665120</td>\n",
       "    </tr>\n",
       "    <tr>\n",
       "      <th>5</th>\n",
       "      <td>0</td>\n",
       "      <td>2.183740</td>\n",
       "      <td>1.107153</td>\n",
       "    </tr>\n",
       "    <tr>\n",
       "      <th>6</th>\n",
       "      <td>0.00045778</td>\n",
       "      <td>1.534762</td>\n",
       "      <td>1.873680</td>\n",
       "    </tr>\n",
       "    <tr>\n",
       "      <th>7</th>\n",
       "      <td>-0.0004883</td>\n",
       "      <td>1.786043</td>\n",
       "      <td>-0.992271</td>\n",
       "    </tr>\n",
       "    <tr>\n",
       "      <th>8</th>\n",
       "      <td>-0.0004883</td>\n",
       "      <td>1.495711</td>\n",
       "      <td>-1.591202</td>\n",
       "    </tr>\n",
       "    <tr>\n",
       "      <th>9</th>\n",
       "      <td>-0.0004883-0.0004883i</td>\n",
       "      <td>1.515236</td>\n",
       "      <td>1.242680</td>\n",
       "    </tr>\n",
       "  </tbody>\n",
       "</table>\n",
       "</div>"
      ],
      "text/plain": [
       "                CSI Value  Amplitude_m  Phase_rad\n",
       "0                       0     1.563900  -2.844526\n",
       "1   -0.0004883+0.0004883i     2.093359  -2.366497\n",
       "2  -0.0004883+0.00045778i     1.743841   0.997361\n",
       "3              -0.0004883     2.013312   2.896614\n",
       "4            0+0.0004883i     1.064653   2.665120\n",
       "5                       0     2.183740   1.107153\n",
       "6              0.00045778     1.534762   1.873680\n",
       "7              -0.0004883     1.786043  -0.992271\n",
       "8              -0.0004883     1.495711  -1.591202\n",
       "9   -0.0004883-0.0004883i     1.515236   1.242680"
      ]
     },
     "execution_count": 257,
     "metadata": {},
     "output_type": "execute_result"
    }
   ],
   "source": [
    "label=[\"CSI Value\",\"Amplitude_m\", \"Phase_rad\"]\n",
    "final_dataset=pd.read_csv(\"/home/ranjit/Thesis/CSI_Matlab/CSI_Dataset_final/Falling/Falling_room_Phase.csv\",names=label)\n",
    "\n",
    "final_dataset.head(10)"
   ]
  },
  {
   "cell_type": "markdown",
   "id": "6a188942",
   "metadata": {},
   "source": [
    "## Activity: Walking, Standing, Sitting, Falling, Get_down, Get_up, No_Person "
   ]
  },
  {
   "cell_type": "code",
   "execution_count": 258,
   "id": "7e43b91f",
   "metadata": {},
   "outputs": [
    {
     "name": "stdout",
     "output_type": "stream",
     "text": [
      "Activity appended successfully\n"
     ]
    }
   ],
   "source": [
    "import csv\n",
    "with open(\"/home/ranjit/Thesis/CSI_Matlab/CSI_Dataset_final/Falling/Falling_room_Phase.csv\",'r') as csvinput:\n",
    "    with open(\"/home/ranjit/Thesis/CSI_Matlab/CSI_Dataset_final/Falling/Falling_room_Activity.csv\", 'w') as csvoutput:\n",
    "        writer = csv.writer(csvoutput)\n",
    "        i=0\n",
    "        for row in csv.reader(csvinput):\n",
    "            row.append(\"Falling\")\n",
    "            writer.writerow(row)\n",
    "            i+=1\n",
    "print(\"Activity appended successfully\")"
   ]
  },
  {
   "cell_type": "code",
   "execution_count": 259,
   "id": "d1f91b7a",
   "metadata": {},
   "outputs": [
    {
     "data": {
      "text/html": [
       "<div>\n",
       "<style scoped>\n",
       "    .dataframe tbody tr th:only-of-type {\n",
       "        vertical-align: middle;\n",
       "    }\n",
       "\n",
       "    .dataframe tbody tr th {\n",
       "        vertical-align: top;\n",
       "    }\n",
       "\n",
       "    .dataframe thead th {\n",
       "        text-align: right;\n",
       "    }\n",
       "</style>\n",
       "<table border=\"1\" class=\"dataframe\">\n",
       "  <thead>\n",
       "    <tr style=\"text-align: right;\">\n",
       "      <th></th>\n",
       "      <th>CSI Value</th>\n",
       "      <th>Amplitude_m</th>\n",
       "      <th>Phase_rad</th>\n",
       "      <th>Activity</th>\n",
       "    </tr>\n",
       "  </thead>\n",
       "  <tbody>\n",
       "    <tr>\n",
       "      <th>0</th>\n",
       "      <td>0</td>\n",
       "      <td>1.563900</td>\n",
       "      <td>-2.844526</td>\n",
       "      <td>Falling</td>\n",
       "    </tr>\n",
       "    <tr>\n",
       "      <th>1</th>\n",
       "      <td>-0.0004883+0.0004883i</td>\n",
       "      <td>2.093359</td>\n",
       "      <td>-2.366497</td>\n",
       "      <td>Falling</td>\n",
       "    </tr>\n",
       "    <tr>\n",
       "      <th>2</th>\n",
       "      <td>-0.0004883+0.00045778i</td>\n",
       "      <td>1.743841</td>\n",
       "      <td>0.997361</td>\n",
       "      <td>Falling</td>\n",
       "    </tr>\n",
       "    <tr>\n",
       "      <th>3</th>\n",
       "      <td>-0.0004883</td>\n",
       "      <td>2.013312</td>\n",
       "      <td>2.896614</td>\n",
       "      <td>Falling</td>\n",
       "    </tr>\n",
       "    <tr>\n",
       "      <th>4</th>\n",
       "      <td>0+0.0004883i</td>\n",
       "      <td>1.064653</td>\n",
       "      <td>2.665120</td>\n",
       "      <td>Falling</td>\n",
       "    </tr>\n",
       "    <tr>\n",
       "      <th>5</th>\n",
       "      <td>0</td>\n",
       "      <td>2.183740</td>\n",
       "      <td>1.107153</td>\n",
       "      <td>Falling</td>\n",
       "    </tr>\n",
       "    <tr>\n",
       "      <th>6</th>\n",
       "      <td>0.00045778</td>\n",
       "      <td>1.534762</td>\n",
       "      <td>1.873680</td>\n",
       "      <td>Falling</td>\n",
       "    </tr>\n",
       "    <tr>\n",
       "      <th>7</th>\n",
       "      <td>-0.0004883</td>\n",
       "      <td>1.786043</td>\n",
       "      <td>-0.992271</td>\n",
       "      <td>Falling</td>\n",
       "    </tr>\n",
       "    <tr>\n",
       "      <th>8</th>\n",
       "      <td>-0.0004883</td>\n",
       "      <td>1.495711</td>\n",
       "      <td>-1.591202</td>\n",
       "      <td>Falling</td>\n",
       "    </tr>\n",
       "    <tr>\n",
       "      <th>9</th>\n",
       "      <td>-0.0004883-0.0004883i</td>\n",
       "      <td>1.515236</td>\n",
       "      <td>1.242680</td>\n",
       "      <td>Falling</td>\n",
       "    </tr>\n",
       "  </tbody>\n",
       "</table>\n",
       "</div>"
      ],
      "text/plain": [
       "                CSI Value  Amplitude_m  Phase_rad Activity\n",
       "0                       0     1.563900  -2.844526  Falling\n",
       "1   -0.0004883+0.0004883i     2.093359  -2.366497  Falling\n",
       "2  -0.0004883+0.00045778i     1.743841   0.997361  Falling\n",
       "3              -0.0004883     2.013312   2.896614  Falling\n",
       "4            0+0.0004883i     1.064653   2.665120  Falling\n",
       "5                       0     2.183740   1.107153  Falling\n",
       "6              0.00045778     1.534762   1.873680  Falling\n",
       "7              -0.0004883     1.786043  -0.992271  Falling\n",
       "8              -0.0004883     1.495711  -1.591202  Falling\n",
       "9   -0.0004883-0.0004883i     1.515236   1.242680  Falling"
      ]
     },
     "execution_count": 259,
     "metadata": {},
     "output_type": "execute_result"
    }
   ],
   "source": [
    "label=[\"CSI Value\",\"Amplitude_m\", \"Phase_rad\",\"Activity\"]\n",
    "final_dataset=pd.read_csv(\"/home/ranjit/Thesis/CSI_Matlab/CSI_Dataset_final/Falling/Falling_room_Activity.csv\",names=label)\n",
    "\n",
    "final_dataset.head(10)"
   ]
  },
  {
   "cell_type": "code",
   "execution_count": 260,
   "id": "9df01d2e",
   "metadata": {},
   "outputs": [
    {
     "name": "stdout",
     "output_type": "stream",
     "text": [
      "<class 'pandas.core.frame.DataFrame'>\n",
      "RangeIndex: 33 entries, 0 to 32\n",
      "Data columns (total 4 columns):\n",
      " #   Column       Non-Null Count  Dtype  \n",
      "---  ------       --------------  -----  \n",
      " 0   CSI Value    33 non-null     object \n",
      " 1   Amplitude_m  33 non-null     float64\n",
      " 2   Phase_rad    33 non-null     float64\n",
      " 3   Activity     33 non-null     object \n",
      "dtypes: float64(2), object(2)\n",
      "memory usage: 1.2+ KB\n"
     ]
    }
   ],
   "source": [
    "final_dataset.info()"
   ]
  },
  {
   "cell_type": "code",
   "execution_count": 261,
   "id": "532685bc",
   "metadata": {},
   "outputs": [
    {
     "data": {
      "text/plain": [
       "<AxesSubplot:title={'center':'Total number of sample Vs Activity'}>"
      ]
     },
     "execution_count": 261,
     "metadata": {},
     "output_type": "execute_result"
    },
    {
     "data": {
      "image/png": "[encoded data removed]",
      "text/plain": [
       "<Figure size 432x288 with 1 Axes>"
      ]
     },
     "metadata": {},
     "output_type": "display_data"
    }
   ],
   "source": [
    "sns.set(color_codes=True)\n",
    "final_dataset['Activity'].value_counts().plot(kind='bar',color=\"dodgerblue\",title='Total number of sample Vs Activity')\n"
   ]
  },
  {
   "cell_type": "code",
   "execution_count": null,
   "id": "cc1e0caa",
   "metadata": {},
   "outputs": [],
   "source": []
  },
  {
   "cell_type": "markdown",
   "id": "05040ae7",
   "metadata": {},
   "source": [
    "# Final Dataset preparation"
   ]
  },
  {
   "cell_type": "code",
   "execution_count": 262,
   "id": "f3bbe8e7",
   "metadata": {},
   "outputs": [
    {
     "name": "stdout",
     "output_type": "stream",
     "text": [
      "All data append in respective list successfully\n"
     ]
    }
   ],
   "source": [
    "import csv\n",
    "row_csi=[]\n",
    "csi_amp=[]\n",
    "csi_phs=[]\n",
    "csi_activity=[]\n",
    "with open(\"/home/ranjit/Thesis/CSI_Matlab/CSI_Dataset_final/Falling/Falling_room_Phase.csv\",'r') as csvinput:    \n",
    "        for row in csv.reader(csvinput):\n",
    "            row_csi.append(row[0])\n",
    "            csi_amp.append(row[1])\n",
    "            csi_phs.append(row[2])\n",
    "            csi_activity.append(\"Falling\")\n",
    "            \n",
    "print(\"All data append in respective list successfully\")            \n",
    "           "
   ]
  },
  {
   "cell_type": "code",
   "execution_count": 263,
   "id": "a8b667a3",
   "metadata": {},
   "outputs": [],
   "source": [
    "# print(row_csi)"
   ]
  },
  {
   "cell_type": "markdown",
   "id": "ce64fd09",
   "metadata": {},
   "source": [
    "# For dataset without repeated CSI value"
   ]
  },
  {
   "cell_type": "code",
   "execution_count": 264,
   "id": "a90fb592",
   "metadata": {},
   "outputs": [
    {
     "name": "stdout",
     "output_type": "stream",
     "text": [
      "Data appended to final dataset successfully.\n"
     ]
    }
   ],
   "source": [
    "\n",
    "data = {'CSI_Value': row_csi,\"Amplitude_m\":csi_amp, \"Phase_rad\":csi_phs, \"Activity\":csi_activity }\n",
    "\n",
    "# Make data frame of above data\n",
    "df = pd.DataFrame(data)\n",
    " \n",
    "# Append data frame to CSV file\n",
    "df.to_csv('/home/ranjit/Thesis/CSI_Matlab/CSI_Dataset_final/All_Activity_room.csv', mode='a', index=False, header=False)\n",
    " \n",
    "\n",
    "print(\"Data appended to final dataset successfully.\")\n"
   ]
  },
  {
   "cell_type": "code",
   "execution_count": 265,
   "id": "2eaf5bb8",
   "metadata": {},
   "outputs": [
    {
     "data": {
      "text/html": [
       "<div>\n",
       "<style scoped>\n",
       "    .dataframe tbody tr th:only-of-type {\n",
       "        vertical-align: middle;\n",
       "    }\n",
       "\n",
       "    .dataframe tbody tr th {\n",
       "        vertical-align: top;\n",
       "    }\n",
       "\n",
       "    .dataframe thead th {\n",
       "        text-align: right;\n",
       "    }\n",
       "</style>\n",
       "<table border=\"1\" class=\"dataframe\">\n",
       "  <thead>\n",
       "    <tr style=\"text-align: right;\">\n",
       "      <th></th>\n",
       "      <th>CSI_Value</th>\n",
       "      <th>Amplitude_m</th>\n",
       "      <th>Phase_rad</th>\n",
       "      <th>Activity</th>\n",
       "    </tr>\n",
       "  </thead>\n",
       "  <tbody>\n",
       "    <tr>\n",
       "      <th>0</th>\n",
       "      <td>0.0004883+0.0004883i</td>\n",
       "      <td>1.495711</td>\n",
       "      <td>3.121187</td>\n",
       "      <td>Walking</td>\n",
       "    </tr>\n",
       "    <tr>\n",
       "      <th>1</th>\n",
       "      <td>0-0.0004883i</td>\n",
       "      <td>2.589975</td>\n",
       "      <td>1.196861</td>\n",
       "      <td>Walking</td>\n",
       "    </tr>\n",
       "    <tr>\n",
       "      <th>2</th>\n",
       "      <td>0.00045778+0.0004883i</td>\n",
       "      <td>4.172037</td>\n",
       "      <td>-1.212026</td>\n",
       "      <td>Walking</td>\n",
       "    </tr>\n",
       "    <tr>\n",
       "      <th>3</th>\n",
       "      <td>0.0004883-0.0004883i</td>\n",
       "      <td>2.929800</td>\n",
       "      <td>0.000000</td>\n",
       "      <td>Walking</td>\n",
       "    </tr>\n",
       "    <tr>\n",
       "      <th>4</th>\n",
       "      <td>0-3.0519e-05i</td>\n",
       "      <td>2.873450</td>\n",
       "      <td>-2.606634</td>\n",
       "      <td>Walking</td>\n",
       "    </tr>\n",
       "    <tr>\n",
       "      <th>...</th>\n",
       "      <td>...</td>\n",
       "      <td>...</td>\n",
       "      <td>...</td>\n",
       "      <td>...</td>\n",
       "    </tr>\n",
       "    <tr>\n",
       "      <th>258</th>\n",
       "      <td>-3.0519e-05</td>\n",
       "      <td>0.519707</td>\n",
       "      <td>-3.082835</td>\n",
       "      <td>Falling</td>\n",
       "    </tr>\n",
       "    <tr>\n",
       "      <th>259</th>\n",
       "      <td>0</td>\n",
       "      <td>1.953200</td>\n",
       "      <td>3.141593</td>\n",
       "      <td>Falling</td>\n",
       "    </tr>\n",
       "    <tr>\n",
       "      <th>260</th>\n",
       "      <td>0-3.0519e-05i</td>\n",
       "      <td>1.760585</td>\n",
       "      <td>2.553595</td>\n",
       "      <td>Falling</td>\n",
       "    </tr>\n",
       "    <tr>\n",
       "      <th>261</th>\n",
       "      <td>-0.00097659-0.00097659i</td>\n",
       "      <td>1.402847</td>\n",
       "      <td>0.770019</td>\n",
       "      <td>Falling</td>\n",
       "    </tr>\n",
       "    <tr>\n",
       "      <th>262</th>\n",
       "      <td>0.00097659+0.00045778i</td>\n",
       "      <td>1.554058</td>\n",
       "      <td>2.801216</td>\n",
       "      <td>Falling</td>\n",
       "    </tr>\n",
       "  </tbody>\n",
       "</table>\n",
       "<p>263 rows × 4 columns</p>\n",
       "</div>"
      ],
      "text/plain": [
       "                   CSI_Value  Amplitude_m  Phase_rad Activity\n",
       "0       0.0004883+0.0004883i     1.495711   3.121187  Walking\n",
       "1               0-0.0004883i     2.589975   1.196861  Walking\n",
       "2      0.00045778+0.0004883i     4.172037  -1.212026  Walking\n",
       "3       0.0004883-0.0004883i     2.929800   0.000000  Walking\n",
       "4              0-3.0519e-05i     2.873450  -2.606634  Walking\n",
       "..                       ...          ...        ...      ...\n",
       "258              -3.0519e-05     0.519707  -3.082835  Falling\n",
       "259                        0     1.953200   3.141593  Falling\n",
       "260            0-3.0519e-05i     1.760585   2.553595  Falling\n",
       "261  -0.00097659-0.00097659i     1.402847   0.770019  Falling\n",
       "262   0.00097659+0.00045778i     1.554058   2.801216  Falling\n",
       "\n",
       "[263 rows x 4 columns]"
      ]
     },
     "execution_count": 265,
     "metadata": {},
     "output_type": "execute_result"
    }
   ],
   "source": [
    "# label=[\"CSI Value\",\"Amplitude_m\", \"Phase_rad\",\"Activity\"]\n",
    "df=pd.read_csv(\"/home/ranjit/Thesis/CSI_Matlab/CSI_Dataset_final/All_Activity_room.csv\") # names=label\n",
    "\n",
    "df.head(-10)"
   ]
  },
  {
   "cell_type": "code",
   "execution_count": 266,
   "id": "495dd743",
   "metadata": {},
   "outputs": [
    {
     "data": {
      "text/plain": [
       "<AxesSubplot:title={'center':'Total number of sample Vs Activity'}>"
      ]
     },
     "execution_count": 266,
     "metadata": {},
     "output_type": "execute_result"
    },
    {
     "data": {
      "image/png": "[encoded data removed]",
      "text/plain": [
       "<Figure size 432x288 with 1 Axes>"
      ]
     },
     "metadata": {},
     "output_type": "display_data"
    }
   ],
   "source": [
    "sns.set(color_codes=True)\n",
    "df['Activity'].value_counts().plot(kind='bar',color=\"dodgerblue\",title='Total number of sample Vs Activity')\n"
   ]
  },
  {
   "cell_type": "code",
   "execution_count": null,
   "id": "6eac4aeb",
   "metadata": {},
   "outputs": [],
   "source": []
  },
  {
   "cell_type": "code",
   "execution_count": null,
   "id": "f8ad7604",
   "metadata": {},
   "outputs": [],
   "source": []
  },
  {
   "cell_type": "code",
   "execution_count": null,
   "id": "74dddcd1",
   "metadata": {},
   "outputs": [],
   "source": []
  },
  {
   "cell_type": "markdown",
   "id": "4862e057",
   "metadata": {},
   "source": [
    "# For dataset with repeated CSI value in dataset"
   ]
  },
  {
   "cell_type": "code",
   "execution_count": 241,
   "id": "3c339f9d",
   "metadata": {},
   "outputs": [
    {
     "name": "stdout",
     "output_type": "stream",
     "text": [
      "Data appended to final dataset successfully.\n"
     ]
    }
   ],
   "source": [
    "data = {'CSI_Value': row_csi,\"Amplitude_m\":csi_amp, \"Phase_rad\":csi_phs, \"Activity\":csi_activity }\n",
    "\n",
    "# Make data frame of above data\n",
    "df = pd.DataFrame(data)\n",
    " \n",
    "# Append data frame to CSV file\n",
    "df.to_csv('/home/ranjit/Thesis/CSI_Matlab/CSI_Dataset_final/All_Activity_room_final.csv', mode='a', index=False, header=False)\n",
    " \n",
    "\n",
    "print(\"Data appended to final dataset successfully.\")"
   ]
  },
  {
   "cell_type": "code",
   "execution_count": 5,
   "id": "573ed5bf",
   "metadata": {},
   "outputs": [
    {
     "data": {
      "text/html": [
       "<div>\n",
       "<style scoped>\n",
       "    .dataframe tbody tr th:only-of-type {\n",
       "        vertical-align: middle;\n",
       "    }\n",
       "\n",
       "    .dataframe tbody tr th {\n",
       "        vertical-align: top;\n",
       "    }\n",
       "\n",
       "    .dataframe thead th {\n",
       "        text-align: right;\n",
       "    }\n",
       "</style>\n",
       "<table border=\"1\" class=\"dataframe\">\n",
       "  <thead>\n",
       "    <tr style=\"text-align: right;\">\n",
       "      <th></th>\n",
       "      <th>Time_Stamp_Sec</th>\n",
       "      <th>CSI_Value</th>\n",
       "      <th>Amplitude_m</th>\n",
       "      <th>Phase_rad</th>\n",
       "      <th>Activity</th>\n",
       "    </tr>\n",
       "  </thead>\n",
       "  <tbody>\n",
       "    <tr>\n",
       "      <th>0</th>\n",
       "      <td>0.032768</td>\n",
       "      <td>0.0004883+0.0004883i</td>\n",
       "      <td>0.690560</td>\n",
       "      <td>0.785398</td>\n",
       "      <td>Walking</td>\n",
       "    </tr>\n",
       "    <tr>\n",
       "      <th>1</th>\n",
       "      <td>0.065536</td>\n",
       "      <td>0-0.0004883i</td>\n",
       "      <td>0.488300</td>\n",
       "      <td>-1.570796</td>\n",
       "      <td>Walking</td>\n",
       "    </tr>\n",
       "    <tr>\n",
       "      <th>2</th>\n",
       "      <td>0.098304</td>\n",
       "      <td>0.00045778+0.0004883i</td>\n",
       "      <td>0.669328</td>\n",
       "      <td>0.817646</td>\n",
       "      <td>Walking</td>\n",
       "    </tr>\n",
       "    <tr>\n",
       "      <th>3</th>\n",
       "      <td>0.131070</td>\n",
       "      <td>0.0004883-0.0004883i</td>\n",
       "      <td>0.690560</td>\n",
       "      <td>-0.785398</td>\n",
       "      <td>Walking</td>\n",
       "    </tr>\n",
       "    <tr>\n",
       "      <th>4</th>\n",
       "      <td>0.163840</td>\n",
       "      <td>0-3.0519e-05i</td>\n",
       "      <td>0.030519</td>\n",
       "      <td>-1.570796</td>\n",
       "      <td>Walking</td>\n",
       "    </tr>\n",
       "    <tr>\n",
       "      <th>...</th>\n",
       "      <td>...</td>\n",
       "      <td>...</td>\n",
       "      <td>...</td>\n",
       "      <td>...</td>\n",
       "      <td>...</td>\n",
       "    </tr>\n",
       "    <tr>\n",
       "      <th>160158</th>\n",
       "      <td>5248.100000</td>\n",
       "      <td>0.00094607-0.0010071i</td>\n",
       "      <td>1.381774</td>\n",
       "      <td>-0.816635</td>\n",
       "      <td>Falling</td>\n",
       "    </tr>\n",
       "    <tr>\n",
       "      <th>160159</th>\n",
       "      <td>5248.100000</td>\n",
       "      <td>0-0.0004883i</td>\n",
       "      <td>0.488300</td>\n",
       "      <td>-1.570796</td>\n",
       "      <td>Falling</td>\n",
       "    </tr>\n",
       "    <tr>\n",
       "      <th>160160</th>\n",
       "      <td>5248.200000</td>\n",
       "      <td>0+0.0004883i</td>\n",
       "      <td>0.488300</td>\n",
       "      <td>1.570796</td>\n",
       "      <td>Falling</td>\n",
       "    </tr>\n",
       "    <tr>\n",
       "      <th>160161</th>\n",
       "      <td>5248.200000</td>\n",
       "      <td>0.00045778+0.0004883i</td>\n",
       "      <td>0.669328</td>\n",
       "      <td>0.817646</td>\n",
       "      <td>Falling</td>\n",
       "    </tr>\n",
       "    <tr>\n",
       "      <th>160162</th>\n",
       "      <td>5248.200000</td>\n",
       "      <td>0.00045778-0.0004883i</td>\n",
       "      <td>0.669328</td>\n",
       "      <td>-0.817646</td>\n",
       "      <td>Falling</td>\n",
       "    </tr>\n",
       "  </tbody>\n",
       "</table>\n",
       "<p>160163 rows × 5 columns</p>\n",
       "</div>"
      ],
      "text/plain": [
       "        Time_Stamp_Sec              CSI_Value  Amplitude_m  Phase_rad Activity\n",
       "0             0.032768   0.0004883+0.0004883i     0.690560   0.785398  Walking\n",
       "1             0.065536           0-0.0004883i     0.488300  -1.570796  Walking\n",
       "2             0.098304  0.00045778+0.0004883i     0.669328   0.817646  Walking\n",
       "3             0.131070   0.0004883-0.0004883i     0.690560  -0.785398  Walking\n",
       "4             0.163840          0-3.0519e-05i     0.030519  -1.570796  Walking\n",
       "...                ...                    ...          ...        ...      ...\n",
       "160158     5248.100000  0.00094607-0.0010071i     1.381774  -0.816635  Falling\n",
       "160159     5248.100000           0-0.0004883i     0.488300  -1.570796  Falling\n",
       "160160     5248.200000           0+0.0004883i     0.488300   1.570796  Falling\n",
       "160161     5248.200000  0.00045778+0.0004883i     0.669328   0.817646  Falling\n",
       "160162     5248.200000  0.00045778-0.0004883i     0.669328  -0.817646  Falling\n",
       "\n",
       "[160163 rows x 5 columns]"
      ]
     },
     "execution_count": 5,
     "metadata": {},
     "output_type": "execute_result"
    }
   ],
   "source": [
    "\n",
    "df2=pd.read_csv(\"/home/ranjit/Thesis/CSI_Matlab/CSI_Dataset_final/All_Activity_room_final.csv\")\n",
    "\n",
    "df2"
   ]
  },
  {
   "cell_type": "code",
   "execution_count": 4,
   "id": "924b0e57",
   "metadata": {},
   "outputs": [
    {
     "data": {
      "text/plain": [
       "<AxesSubplot:title={'center':'Total number of sample Vs Activity'}>"
      ]
     },
     "execution_count": 4,
     "metadata": {},
     "output_type": "execute_result"
    },
    {
     "data": {
      "image/png": "[encoded data removed]",
      "text/plain": [
       "<Figure size 432x288 with 1 Axes>"
      ]
     },
     "metadata": {},
     "output_type": "display_data"
    }
   ],
   "source": [
    "sns.set(color_codes=True)\n",
    "df2['Activity'].value_counts().plot(kind='bar',color=\"dodgerblue\",title='Total number of sample Vs Activity')"
   ]
  }
 ],
 "metadata": {
  "kernelspec": {
   "display_name": "Python 3 (ipykernel)",
   "language": "python",
   "name": "python3"
  },
  "language_info": {
   "codemirror_mode": {
    "name": "ipython",
    "version": 3
   },
   "file_extension": ".py",
   "mimetype": "text/x-python",
   "name": "python",
   "nbconvert_exporter": "python",
   "pygments_lexer": "ipython3",
   "version": "3.9.7"
  }
 },
 "nbformat": 4,
 "nbformat_minor": 5
}
