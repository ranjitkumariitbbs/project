{
 "cells": [
  {
   "cell_type": "code",
   "execution_count": 149,
   "id": "6b480993",
   "metadata": {},
   "outputs": [],
   "source": [
    "import pandas as pd\n",
    "import matplotlib.pyplot as plt\n",
    "import numpy as np\n",
    "import seaborn as sns"
   ]
  },
  {
   "cell_type": "markdown",
   "id": "79aedd3d",
   "metadata": {},
   "source": [
    "# Load Wi-Fi CSI raw data"
   ]
  },
  {
   "cell_type": "code",
   "execution_count": 150,
   "id": "d3df36a8",
   "metadata": {},
   "outputs": [
    {
     "data": {
      "text/html": [
       "<div>\n",
       "<style scoped>\n",
       "    .dataframe tbody tr th:only-of-type {\n",
       "        vertical-align: middle;\n",
       "    }\n",
       "\n",
       "    .dataframe tbody tr th {\n",
       "        vertical-align: top;\n",
       "    }\n",
       "\n",
       "    .dataframe thead th {\n",
       "        text-align: right;\n",
       "    }\n",
       "</style>\n",
       "<table border=\"1\" class=\"dataframe\">\n",
       "  <thead>\n",
       "    <tr style=\"text-align: right;\">\n",
       "      <th></th>\n",
       "      <th>CSI_Value</th>\n",
       "    </tr>\n",
       "  </thead>\n",
       "  <tbody>\n",
       "    <tr>\n",
       "      <th>0</th>\n",
       "      <td>0</td>\n",
       "    </tr>\n",
       "    <tr>\n",
       "      <th>1</th>\n",
       "      <td>0+0.00097659i</td>\n",
       "    </tr>\n",
       "    <tr>\n",
       "      <th>2</th>\n",
       "      <td>0-0.0004883i</td>\n",
       "    </tr>\n",
       "    <tr>\n",
       "      <th>3</th>\n",
       "      <td>0.0004883-0.0004883i</td>\n",
       "    </tr>\n",
       "    <tr>\n",
       "      <th>4</th>\n",
       "      <td>-0.0004883+0.00045778i</td>\n",
       "    </tr>\n",
       "    <tr>\n",
       "      <th>...</th>\n",
       "      <td>...</td>\n",
       "    </tr>\n",
       "    <tr>\n",
       "      <th>16465</th>\n",
       "      <td>0</td>\n",
       "    </tr>\n",
       "    <tr>\n",
       "      <th>16466</th>\n",
       "      <td>0.0004883-0.00097659i</td>\n",
       "    </tr>\n",
       "    <tr>\n",
       "      <th>16467</th>\n",
       "      <td>0.0004883</td>\n",
       "    </tr>\n",
       "    <tr>\n",
       "      <th>16468</th>\n",
       "      <td>0</td>\n",
       "    </tr>\n",
       "    <tr>\n",
       "      <th>16469</th>\n",
       "      <td>0+0.00094607i</td>\n",
       "    </tr>\n",
       "  </tbody>\n",
       "</table>\n",
       "<p>16470 rows × 1 columns</p>\n",
       "</div>"
      ],
      "text/plain": [
       "                    CSI_Value\n",
       "0                           0\n",
       "1               0+0.00097659i\n",
       "2                0-0.0004883i\n",
       "3        0.0004883-0.0004883i\n",
       "4      -0.0004883+0.00045778i\n",
       "...                       ...\n",
       "16465                       0\n",
       "16466   0.0004883-0.00097659i\n",
       "16467               0.0004883\n",
       "16468                       0\n",
       "16469           0+0.00094607i\n",
       "\n",
       "[16470 rows x 1 columns]"
      ]
     },
     "execution_count": 150,
     "metadata": {},
     "output_type": "execute_result"
    }
   ],
   "source": [
    "label=[\"CSI_Value\"]\n",
    "dataset=pd.read_csv(\"/home/ranjit/Thesis/CSI_Matlab/CSI_Dataset_final/No_Person/No_Person_room_Raw_CSI.csv\",names=label)\n",
    "dataset.head(-10)"
   ]
  },
  {
   "cell_type": "markdown",
   "id": "c47ce23b",
   "metadata": {},
   "source": [
    "# Drop duplicated CSI data (i.e repeated CSI data)"
   ]
  },
  {
   "cell_type": "code",
   "execution_count": 151,
   "id": "8c3d9db8",
   "metadata": {
    "scrolled": true
   },
   "outputs": [
    {
     "data": {
      "text/html": [
       "<div>\n",
       "<style scoped>\n",
       "    .dataframe tbody tr th:only-of-type {\n",
       "        vertical-align: middle;\n",
       "    }\n",
       "\n",
       "    .dataframe tbody tr th {\n",
       "        vertical-align: top;\n",
       "    }\n",
       "\n",
       "    .dataframe thead th {\n",
       "        text-align: right;\n",
       "    }\n",
       "</style>\n",
       "<table border=\"1\" class=\"dataframe\">\n",
       "  <thead>\n",
       "    <tr style=\"text-align: right;\">\n",
       "      <th></th>\n",
       "      <th>CSI_Value</th>\n",
       "    </tr>\n",
       "  </thead>\n",
       "  <tbody>\n",
       "    <tr>\n",
       "      <th>277</th>\n",
       "      <td>-0.0014344+0.0004883i</td>\n",
       "    </tr>\n",
       "    <tr>\n",
       "      <th>2458</th>\n",
       "      <td>0.0014649+0.00094607i</td>\n",
       "    </tr>\n",
       "    <tr>\n",
       "      <th>2521</th>\n",
       "      <td>-0.0019532+0.0004883i</td>\n",
       "    </tr>\n",
       "    <tr>\n",
       "      <th>2751</th>\n",
       "      <td>0.00045778+0.0014649i</td>\n",
       "    </tr>\n",
       "    <tr>\n",
       "      <th>2940</th>\n",
       "      <td>0.00094607+0.00094607i</td>\n",
       "    </tr>\n",
       "  </tbody>\n",
       "</table>\n",
       "</div>"
      ],
      "text/plain": [
       "                   CSI_Value\n",
       "277    -0.0014344+0.0004883i\n",
       "2458   0.0014649+0.00094607i\n",
       "2521   -0.0019532+0.0004883i\n",
       "2751   0.00045778+0.0014649i\n",
       "2940  0.00094607+0.00094607i"
      ]
     },
     "execution_count": 151,
     "metadata": {},
     "output_type": "execute_result"
    }
   ],
   "source": [
    "dataset.drop_duplicates(subset =\"CSI_Value\",keep = False, inplace = True)\n",
    "dataset.head()"
   ]
  },
  {
   "cell_type": "markdown",
   "id": "51f31e9f",
   "metadata": {},
   "source": [
    "# Convert CSI data into list"
   ]
  },
  {
   "cell_type": "code",
   "execution_count": 152,
   "id": "4f5b917c",
   "metadata": {},
   "outputs": [
    {
     "name": "stdout",
     "output_type": "stream",
     "text": [
      "[['-0.0014344+0.0004883i']\n",
      " ['0.0014649+0.00094607i']\n",
      " ['-0.0019532+0.0004883i']\n",
      " ['0.00045778+0.0014649i']\n",
      " ['0.00094607+0.00094607i']\n",
      " ['0.0014344+0.00045778i']\n",
      " ['-0.0010071-0.00051881i']\n",
      " ['0.0014344-0.00051881i']\n",
      " ['-0.0010071+0.00094607i']\n",
      " ['0.0019532']\n",
      " ['-0.00097659-0.0014649i']\n",
      " ['0.00045778-0.0014649i']\n",
      " ['-0.0014649-0.00051881i']\n",
      " ['-0.0010071-0.0014649i']\n",
      " ['0.0014344-0.0004883i']\n",
      " ['0.00051881+0.0014649i']\n",
      " ['-0.00097659+0.0014649i']\n",
      " ['0.0004883+0.0019532i']\n",
      " ['-0.00097659-0.0019532i']\n",
      " ['3.0519e-05+0.0014649i']\n",
      " ['-0.0004883-0.0014954i']\n",
      " ['-0.00051881+0.00051881i']]\n"
     ]
    }
   ],
   "source": [
    "X=dataset.values\n",
    "lis=X.tolist()\n",
    "print(X)\n",
    "# print(lis)\n"
   ]
  },
  {
   "cell_type": "markdown",
   "id": "804b7dbc",
   "metadata": {},
   "source": [
    "# Replace \"i\" of complex number to \"j\" \n",
    "Since complex number in python is written as: a + bj"
   ]
  },
  {
   "cell_type": "code",
   "execution_count": 153,
   "id": "b3d6ceae",
   "metadata": {},
   "outputs": [],
   "source": [
    "lis1=[]\n",
    "k=-1\n",
    "for i in lis:\n",
    "    k+=1\n",
    "    for s in lis[k]:\n",
    "        s = s.replace('i', 'j')\n",
    "        v = complex(s)\n",
    "        lis1.append(v)\n"
   ]
  },
  {
   "cell_type": "code",
   "execution_count": 154,
   "id": "7137e395",
   "metadata": {},
   "outputs": [
    {
     "name": "stdout",
     "output_type": "stream",
     "text": [
      "[(-0.0014344+0.0004883j), (0.0014649+0.00094607j), (-0.0019532+0.0004883j), (0.00045778+0.0014649j), (0.00094607+0.00094607j), (0.0014344+0.00045778j), (-0.0010071-0.00051881j), (0.0014344-0.00051881j), (-0.0010071+0.00094607j), (0.0019532+0j), (-0.00097659-0.0014649j), (0.00045778-0.0014649j), (-0.0014649-0.00051881j), (-0.0010071-0.0014649j), (0.0014344-0.0004883j), (0.00051881+0.0014649j), (-0.00097659+0.0014649j), (0.0004883+0.0019532j), (-0.00097659-0.0019532j), (3.0519e-05+0.0014649j), (-0.0004883-0.0014954j), (-0.00051881+0.00051881j)]\n"
     ]
    }
   ],
   "source": [
    "print(lis1)"
   ]
  },
  {
   "cell_type": "markdown",
   "id": "c0685039",
   "metadata": {},
   "source": [
    "# Append Amplitude information in dataset"
   ]
  },
  {
   "cell_type": "code",
   "execution_count": 155,
   "id": "c3a01654",
   "metadata": {},
   "outputs": [],
   "source": [
    "amplitudes=[]\n",
    "for i in lis1:\n",
    "    amp=abs(i)*1000 # Scale-up by 100 unit\n",
    "    amplitudes.append(amp)"
   ]
  },
  {
   "cell_type": "code",
   "execution_count": 156,
   "id": "4f040d45",
   "metadata": {},
   "outputs": [
    {
     "name": "stdout",
     "output_type": "stream",
     "text": [
      "[1.5152360377182164, 1.7438407194752623, 2.0133124769891038, 1.5347620461817526, 1.337945024954314, 1.5056778833468998, 1.1328787340664488, 1.5253416588095927, 1.3817738074301453, 1.9532]\n",
      "\n",
      "Maximum amplitude value= 2.1837395147086567\n"
     ]
    }
   ],
   "source": [
    "print(amplitudes[:10])\n",
    "print(\"\\nMaximum amplitude value=\",max(amplitudes))\n"
   ]
  },
  {
   "cell_type": "code",
   "execution_count": 157,
   "id": "539ae923",
   "metadata": {},
   "outputs": [
    {
     "name": "stdout",
     "output_type": "stream",
     "text": [
      "Amplitude data appended successfully\n"
     ]
    }
   ],
   "source": [
    "\n",
    "import csv\n",
    "with open(\"/home/ranjit/Thesis/CSI_Matlab/CSI_Dataset_final/No_Person/No_Person_room_Raw_CSI.csv\",'r') as csvinput:\n",
    "    with open(\"/home/ranjit/Thesis/CSI_Matlab/CSI_Dataset_final/No_Person/No_Person_room_Amp.csv\", 'w') as csvoutput:\n",
    "        writer = csv.writer(csvoutput)\n",
    "        i=0\n",
    "        for row in csv.reader(csvinput):\n",
    "            row.append(amplitudes[i])\n",
    "            writer.writerow(row)\n",
    "            i+=1\n",
    "            if i==len(amplitudes):\n",
    "                break\n",
    "\n",
    "print(\"Amplitude data appended successfully\")\n",
    "            "
   ]
  },
  {
   "cell_type": "code",
   "execution_count": 158,
   "id": "103f853d",
   "metadata": {},
   "outputs": [
    {
     "data": {
      "text/html": [
       "<div>\n",
       "<style scoped>\n",
       "    .dataframe tbody tr th:only-of-type {\n",
       "        vertical-align: middle;\n",
       "    }\n",
       "\n",
       "    .dataframe tbody tr th {\n",
       "        vertical-align: top;\n",
       "    }\n",
       "\n",
       "    .dataframe thead th {\n",
       "        text-align: right;\n",
       "    }\n",
       "</style>\n",
       "<table border=\"1\" class=\"dataframe\">\n",
       "  <thead>\n",
       "    <tr style=\"text-align: right;\">\n",
       "      <th></th>\n",
       "      <th>CSI_Value</th>\n",
       "      <th>Amplitude_m</th>\n",
       "    </tr>\n",
       "  </thead>\n",
       "  <tbody>\n",
       "    <tr>\n",
       "      <th>0</th>\n",
       "      <td>0</td>\n",
       "      <td>1.515236</td>\n",
       "    </tr>\n",
       "    <tr>\n",
       "      <th>1</th>\n",
       "      <td>0+0.00097659i</td>\n",
       "      <td>1.743841</td>\n",
       "    </tr>\n",
       "    <tr>\n",
       "      <th>2</th>\n",
       "      <td>0-0.0004883i</td>\n",
       "      <td>2.013312</td>\n",
       "    </tr>\n",
       "    <tr>\n",
       "      <th>3</th>\n",
       "      <td>0.0004883-0.0004883i</td>\n",
       "      <td>1.534762</td>\n",
       "    </tr>\n",
       "    <tr>\n",
       "      <th>4</th>\n",
       "      <td>-0.0004883+0.00045778i</td>\n",
       "      <td>1.337945</td>\n",
       "    </tr>\n",
       "    <tr>\n",
       "      <th>5</th>\n",
       "      <td>0+0.0004883i</td>\n",
       "      <td>1.505678</td>\n",
       "    </tr>\n",
       "    <tr>\n",
       "      <th>6</th>\n",
       "      <td>-0.0004883</td>\n",
       "      <td>1.132879</td>\n",
       "    </tr>\n",
       "    <tr>\n",
       "      <th>7</th>\n",
       "      <td>0+0.0004883i</td>\n",
       "      <td>1.525342</td>\n",
       "    </tr>\n",
       "    <tr>\n",
       "      <th>8</th>\n",
       "      <td>0.00045778</td>\n",
       "      <td>1.381774</td>\n",
       "    </tr>\n",
       "    <tr>\n",
       "      <th>9</th>\n",
       "      <td>0.00045778+0.00045778i</td>\n",
       "      <td>1.953200</td>\n",
       "    </tr>\n",
       "  </tbody>\n",
       "</table>\n",
       "</div>"
      ],
      "text/plain": [
       "                CSI_Value  Amplitude_m\n",
       "0                       0     1.515236\n",
       "1           0+0.00097659i     1.743841\n",
       "2            0-0.0004883i     2.013312\n",
       "3    0.0004883-0.0004883i     1.534762\n",
       "4  -0.0004883+0.00045778i     1.337945\n",
       "5            0+0.0004883i     1.505678\n",
       "6              -0.0004883     1.132879\n",
       "7            0+0.0004883i     1.525342\n",
       "8              0.00045778     1.381774\n",
       "9  0.00045778+0.00045778i     1.953200"
      ]
     },
     "execution_count": 158,
     "metadata": {},
     "output_type": "execute_result"
    }
   ],
   "source": [
    "label=[\"CSI_Value\",\"Amplitude_m\"]\n",
    "df_amp=pd.read_csv(\"/home/ranjit/Thesis/CSI_Matlab/CSI_Dataset_final/No_Person/No_Person_room_Amp.csv\",names=label)\n",
    "df_amp.head(10)"
   ]
  },
  {
   "cell_type": "markdown",
   "id": "5f734bf3",
   "metadata": {},
   "source": [
    "# Append Phase information in dataset"
   ]
  },
  {
   "cell_type": "code",
   "execution_count": 159,
   "id": "e7da7299",
   "metadata": {},
   "outputs": [],
   "source": [
    "# importing \"cmath\" for complex number operations\n",
    "\n",
    "import cmath\n",
    "amplitudes=[]\n",
    "phases=[]\n",
    "for i in lis1:\n",
    "    out_phase=cmath.phase(i)\n",
    "    phases.append(out_phase)\n",
    "    "
   ]
  },
  {
   "cell_type": "code",
   "execution_count": 160,
   "id": "bc2d2470",
   "metadata": {},
   "outputs": [
    {
     "name": "stdout",
     "output_type": "stream",
     "text": [
      "[2.8134767463665273, 0.5734351068278833, 2.896613990462929, 1.26791223580426, 0.7853981633974483, 0.3089261668642332, -2.6658967213674623, -0.34705202808246277, 2.387430966977647, 0.0]\n",
      "\n",
      "Maximum phase value= 2.896613990462929\n"
     ]
    }
   ],
   "source": [
    "print(phases[0:10])\n",
    "print(\"\\nMaximum phase value=\",max(phases))\n"
   ]
  },
  {
   "cell_type": "code",
   "execution_count": 161,
   "id": "c62d2518",
   "metadata": {},
   "outputs": [
    {
     "name": "stdout",
     "output_type": "stream",
     "text": [
      "Phase appended successfully\n"
     ]
    }
   ],
   "source": [
    "import csv\n",
    "with open(\"/home/ranjit/Thesis/CSI_Matlab/CSI_Dataset_final/No_Person/No_Person_room_Amp.csv\",'r') as csvinput:\n",
    "    with open(\"/home/ranjit/Thesis/CSI_Matlab/CSI_Dataset_final/No_Person/No_Person_room_Phase.csv\", 'w') as csvoutput:\n",
    "        writer = csv.writer(csvoutput)\n",
    "        j=0\n",
    "        for phs_row in csv.reader(csvinput):\n",
    "            phs_row.append(phases[j])\n",
    "            writer.writerow(phs_row)\n",
    "            j+=1\n",
    "            if j==len(phases):\n",
    "                break\n",
    "#            print(row)\n",
    "\n",
    "print(\"Phase appended successfully\")\n",
    "            "
   ]
  },
  {
   "cell_type": "code",
   "execution_count": 162,
   "id": "dd807e55",
   "metadata": {},
   "outputs": [
    {
     "data": {
      "text/html": [
       "<div>\n",
       "<style scoped>\n",
       "    .dataframe tbody tr th:only-of-type {\n",
       "        vertical-align: middle;\n",
       "    }\n",
       "\n",
       "    .dataframe tbody tr th {\n",
       "        vertical-align: top;\n",
       "    }\n",
       "\n",
       "    .dataframe thead th {\n",
       "        text-align: right;\n",
       "    }\n",
       "</style>\n",
       "<table border=\"1\" class=\"dataframe\">\n",
       "  <thead>\n",
       "    <tr style=\"text-align: right;\">\n",
       "      <th></th>\n",
       "      <th>CSI Value</th>\n",
       "      <th>Amplitude_m</th>\n",
       "      <th>Phase_rad</th>\n",
       "    </tr>\n",
       "  </thead>\n",
       "  <tbody>\n",
       "    <tr>\n",
       "      <th>0</th>\n",
       "      <td>0</td>\n",
       "      <td>1.515236</td>\n",
       "      <td>2.813477</td>\n",
       "    </tr>\n",
       "    <tr>\n",
       "      <th>1</th>\n",
       "      <td>0+0.00097659i</td>\n",
       "      <td>1.743841</td>\n",
       "      <td>0.573435</td>\n",
       "    </tr>\n",
       "    <tr>\n",
       "      <th>2</th>\n",
       "      <td>0-0.0004883i</td>\n",
       "      <td>2.013312</td>\n",
       "      <td>2.896614</td>\n",
       "    </tr>\n",
       "    <tr>\n",
       "      <th>3</th>\n",
       "      <td>0.0004883-0.0004883i</td>\n",
       "      <td>1.534762</td>\n",
       "      <td>1.267912</td>\n",
       "    </tr>\n",
       "    <tr>\n",
       "      <th>4</th>\n",
       "      <td>-0.0004883+0.00045778i</td>\n",
       "      <td>1.337945</td>\n",
       "      <td>0.785398</td>\n",
       "    </tr>\n",
       "    <tr>\n",
       "      <th>5</th>\n",
       "      <td>0+0.0004883i</td>\n",
       "      <td>1.505678</td>\n",
       "      <td>0.308926</td>\n",
       "    </tr>\n",
       "    <tr>\n",
       "      <th>6</th>\n",
       "      <td>-0.0004883</td>\n",
       "      <td>1.132879</td>\n",
       "      <td>-2.665897</td>\n",
       "    </tr>\n",
       "    <tr>\n",
       "      <th>7</th>\n",
       "      <td>0+0.0004883i</td>\n",
       "      <td>1.525342</td>\n",
       "      <td>-0.347052</td>\n",
       "    </tr>\n",
       "    <tr>\n",
       "      <th>8</th>\n",
       "      <td>0.00045778</td>\n",
       "      <td>1.381774</td>\n",
       "      <td>2.387431</td>\n",
       "    </tr>\n",
       "    <tr>\n",
       "      <th>9</th>\n",
       "      <td>0.00045778+0.00045778i</td>\n",
       "      <td>1.953200</td>\n",
       "      <td>0.000000</td>\n",
       "    </tr>\n",
       "  </tbody>\n",
       "</table>\n",
       "</div>"
      ],
      "text/plain": [
       "                CSI Value  Amplitude_m  Phase_rad\n",
       "0                       0     1.515236   2.813477\n",
       "1           0+0.00097659i     1.743841   0.573435\n",
       "2            0-0.0004883i     2.013312   2.896614\n",
       "3    0.0004883-0.0004883i     1.534762   1.267912\n",
       "4  -0.0004883+0.00045778i     1.337945   0.785398\n",
       "5            0+0.0004883i     1.505678   0.308926\n",
       "6              -0.0004883     1.132879  -2.665897\n",
       "7            0+0.0004883i     1.525342  -0.347052\n",
       "8              0.00045778     1.381774   2.387431\n",
       "9  0.00045778+0.00045778i     1.953200   0.000000"
      ]
     },
     "execution_count": 162,
     "metadata": {},
     "output_type": "execute_result"
    }
   ],
   "source": [
    "label=[\"CSI Value\",\"Amplitude_m\", \"Phase_rad\"]\n",
    "final_dataset=pd.read_csv(\"/home/ranjit/Thesis/CSI_Matlab/CSI_Dataset_final/No_Person/No_Person_room_Phase.csv\",names=label)\n",
    "\n",
    "final_dataset.head(10)"
   ]
  },
  {
   "cell_type": "markdown",
   "id": "6a188942",
   "metadata": {},
   "source": [
    "# Activity: Walking, Standing, Sitting, Get_down, Get_up, No_Person "
   ]
  },
  {
   "cell_type": "code",
   "execution_count": 163,
   "id": "7e43b91f",
   "metadata": {},
   "outputs": [
    {
     "name": "stdout",
     "output_type": "stream",
     "text": [
      "Activity appended successfully\n"
     ]
    }
   ],
   "source": [
    "import csv\n",
    "with open(\"/home/ranjit/Thesis/CSI_Matlab/CSI_Dataset_final/No_Person/No_Person_room_Phase.csv\",'r') as csvinput:\n",
    "    with open(\"/home/ranjit/Thesis/CSI_Matlab/CSI_Dataset_final/No_Person/No_Person_room_Activity.csv\", 'w') as csvoutput:\n",
    "        writer = csv.writer(csvoutput)\n",
    "        i=0\n",
    "        for row in csv.reader(csvinput):\n",
    "            row.append(\"No_Person\")\n",
    "            writer.writerow(row)\n",
    "            i+=1\n",
    "print(\"Activity appended successfully\")"
   ]
  },
  {
   "cell_type": "code",
   "execution_count": 164,
   "id": "d1f91b7a",
   "metadata": {},
   "outputs": [
    {
     "data": {
      "text/html": [
       "<div>\n",
       "<style scoped>\n",
       "    .dataframe tbody tr th:only-of-type {\n",
       "        vertical-align: middle;\n",
       "    }\n",
       "\n",
       "    .dataframe tbody tr th {\n",
       "        vertical-align: top;\n",
       "    }\n",
       "\n",
       "    .dataframe thead th {\n",
       "        text-align: right;\n",
       "    }\n",
       "</style>\n",
       "<table border=\"1\" class=\"dataframe\">\n",
       "  <thead>\n",
       "    <tr style=\"text-align: right;\">\n",
       "      <th></th>\n",
       "      <th>CSI Value</th>\n",
       "      <th>Amplitude_m</th>\n",
       "      <th>Phase_rad</th>\n",
       "      <th>Activity</th>\n",
       "    </tr>\n",
       "  </thead>\n",
       "  <tbody>\n",
       "    <tr>\n",
       "      <th>0</th>\n",
       "      <td>0</td>\n",
       "      <td>1.515236</td>\n",
       "      <td>2.813477</td>\n",
       "      <td>No_Person</td>\n",
       "    </tr>\n",
       "    <tr>\n",
       "      <th>1</th>\n",
       "      <td>0+0.00097659i</td>\n",
       "      <td>1.743841</td>\n",
       "      <td>0.573435</td>\n",
       "      <td>No_Person</td>\n",
       "    </tr>\n",
       "    <tr>\n",
       "      <th>2</th>\n",
       "      <td>0-0.0004883i</td>\n",
       "      <td>2.013312</td>\n",
       "      <td>2.896614</td>\n",
       "      <td>No_Person</td>\n",
       "    </tr>\n",
       "    <tr>\n",
       "      <th>3</th>\n",
       "      <td>0.0004883-0.0004883i</td>\n",
       "      <td>1.534762</td>\n",
       "      <td>1.267912</td>\n",
       "      <td>No_Person</td>\n",
       "    </tr>\n",
       "    <tr>\n",
       "      <th>4</th>\n",
       "      <td>-0.0004883+0.00045778i</td>\n",
       "      <td>1.337945</td>\n",
       "      <td>0.785398</td>\n",
       "      <td>No_Person</td>\n",
       "    </tr>\n",
       "    <tr>\n",
       "      <th>5</th>\n",
       "      <td>0+0.0004883i</td>\n",
       "      <td>1.505678</td>\n",
       "      <td>0.308926</td>\n",
       "      <td>No_Person</td>\n",
       "    </tr>\n",
       "    <tr>\n",
       "      <th>6</th>\n",
       "      <td>-0.0004883</td>\n",
       "      <td>1.132879</td>\n",
       "      <td>-2.665897</td>\n",
       "      <td>No_Person</td>\n",
       "    </tr>\n",
       "    <tr>\n",
       "      <th>7</th>\n",
       "      <td>0+0.0004883i</td>\n",
       "      <td>1.525342</td>\n",
       "      <td>-0.347052</td>\n",
       "      <td>No_Person</td>\n",
       "    </tr>\n",
       "    <tr>\n",
       "      <th>8</th>\n",
       "      <td>0.00045778</td>\n",
       "      <td>1.381774</td>\n",
       "      <td>2.387431</td>\n",
       "      <td>No_Person</td>\n",
       "    </tr>\n",
       "    <tr>\n",
       "      <th>9</th>\n",
       "      <td>0.00045778+0.00045778i</td>\n",
       "      <td>1.953200</td>\n",
       "      <td>0.000000</td>\n",
       "      <td>No_Person</td>\n",
       "    </tr>\n",
       "  </tbody>\n",
       "</table>\n",
       "</div>"
      ],
      "text/plain": [
       "                CSI Value  Amplitude_m  Phase_rad   Activity\n",
       "0                       0     1.515236   2.813477  No_Person\n",
       "1           0+0.00097659i     1.743841   0.573435  No_Person\n",
       "2            0-0.0004883i     2.013312   2.896614  No_Person\n",
       "3    0.0004883-0.0004883i     1.534762   1.267912  No_Person\n",
       "4  -0.0004883+0.00045778i     1.337945   0.785398  No_Person\n",
       "5            0+0.0004883i     1.505678   0.308926  No_Person\n",
       "6              -0.0004883     1.132879  -2.665897  No_Person\n",
       "7            0+0.0004883i     1.525342  -0.347052  No_Person\n",
       "8              0.00045778     1.381774   2.387431  No_Person\n",
       "9  0.00045778+0.00045778i     1.953200   0.000000  No_Person"
      ]
     },
     "execution_count": 164,
     "metadata": {},
     "output_type": "execute_result"
    }
   ],
   "source": [
    "label=[\"CSI Value\",\"Amplitude_m\", \"Phase_rad\",\"Activity\"]\n",
    "final_dataset=pd.read_csv(\"/home/ranjit/Thesis/CSI_Matlab/CSI_Dataset_final/No_Person/No_Person_room_Activity.csv\",names=label)\n",
    "\n",
    "final_dataset.head(10)"
   ]
  },
  {
   "cell_type": "code",
   "execution_count": 165,
   "id": "9df01d2e",
   "metadata": {},
   "outputs": [
    {
     "name": "stdout",
     "output_type": "stream",
     "text": [
      "<class 'pandas.core.frame.DataFrame'>\n",
      "RangeIndex: 22 entries, 0 to 21\n",
      "Data columns (total 4 columns):\n",
      " #   Column       Non-Null Count  Dtype  \n",
      "---  ------       --------------  -----  \n",
      " 0   CSI Value    22 non-null     object \n",
      " 1   Amplitude_m  22 non-null     float64\n",
      " 2   Phase_rad    22 non-null     float64\n",
      " 3   Activity     22 non-null     object \n",
      "dtypes: float64(2), object(2)\n",
      "memory usage: 832.0+ bytes\n"
     ]
    }
   ],
   "source": [
    "final_dataset.info()"
   ]
  },
  {
   "cell_type": "code",
   "execution_count": 166,
   "id": "532685bc",
   "metadata": {},
   "outputs": [
    {
     "data": {
      "text/plain": [
       "<AxesSubplot:title={'center':'Total number of sample Vs Activity'}>"
      ]
     },
     "execution_count": 166,
     "metadata": {},
     "output_type": "execute_result"
    },
    {
     "data": {
      "image/png": "[encoded data removed]",
      "text/plain": [
       "<Figure size 432x288 with 1 Axes>"
      ]
     },
     "metadata": {},
     "output_type": "display_data"
    }
   ],
   "source": [
    "sns.set(color_codes=True)\n",
    "final_dataset['Activity'].value_counts().plot(kind='bar',color=\"dodgerblue\",title='Total number of sample Vs Activity')\n"
   ]
  },
  {
   "cell_type": "code",
   "execution_count": null,
   "id": "cc1e0caa",
   "metadata": {},
   "outputs": [],
   "source": []
  },
  {
   "cell_type": "markdown",
   "id": "05040ae7",
   "metadata": {},
   "source": [
    "# Final Dataset preparation"
   ]
  },
  {
   "cell_type": "code",
   "execution_count": 167,
   "id": "f3bbe8e7",
   "metadata": {},
   "outputs": [
    {
     "name": "stdout",
     "output_type": "stream",
     "text": [
      "All data append in respective list successfully\n"
     ]
    }
   ],
   "source": [
    "import csv\n",
    "row_csi=[]\n",
    "csi_amp=[]\n",
    "csi_phs=[]\n",
    "csi_activity=[]\n",
    "with open(\"/home/ranjit/Thesis/CSI_Matlab/CSI_Dataset_final/No_Person/No_Person_room_Phase.csv\",'r') as csvinput:    \n",
    "        for row in csv.reader(csvinput):\n",
    "            row_csi.append(row[0])\n",
    "            csi_amp.append(row[1])\n",
    "            csi_phs.append(row[2])\n",
    "            csi_activity.append(\"No_Person\")\n",
    "            \n",
    "print(\"All data append in respective list successfully\")            \n",
    "           "
   ]
  },
  {
   "cell_type": "code",
   "execution_count": 168,
   "id": "a8b667a3",
   "metadata": {},
   "outputs": [],
   "source": [
    "# print(row_csi)"
   ]
  },
  {
   "cell_type": "markdown",
   "id": "719875a9",
   "metadata": {},
   "source": [
    "# For dataset without repeated CSI value"
   ]
  },
  {
   "cell_type": "code",
   "execution_count": 169,
   "id": "a90fb592",
   "metadata": {},
   "outputs": [
    {
     "name": "stdout",
     "output_type": "stream",
     "text": [
      "Data appended to final dataset successfully.\n"
     ]
    }
   ],
   "source": [
    "\n",
    "data = {'CSI_Value': row_csi,\"Amplitude_m\":csi_amp, \"Phase_rad\":csi_phs, \"Activity\":csi_activity }\n",
    "\n",
    "# Make data frame of above data\n",
    "df = pd.DataFrame(data)\n",
    " \n",
    "# Append data frame to CSV file\n",
    "df.to_csv('/home/ranjit/Thesis/CSI_Matlab/CSI_Dataset_final/All_Activity_room.csv', mode='a', index=False, header=False)\n",
    " \n",
    "\n",
    "print(\"Data appended to final dataset successfully.\")\n"
   ]
  },
  {
   "cell_type": "code",
   "execution_count": 170,
   "id": "2eaf5bb8",
   "metadata": {},
   "outputs": [
    {
     "data": {
      "text/html": [
       "<div>\n",
       "<style scoped>\n",
       "    .dataframe tbody tr th:only-of-type {\n",
       "        vertical-align: middle;\n",
       "    }\n",
       "\n",
       "    .dataframe tbody tr th {\n",
       "        vertical-align: top;\n",
       "    }\n",
       "\n",
       "    .dataframe thead th {\n",
       "        text-align: right;\n",
       "    }\n",
       "</style>\n",
       "<table border=\"1\" class=\"dataframe\">\n",
       "  <thead>\n",
       "    <tr style=\"text-align: right;\">\n",
       "      <th></th>\n",
       "      <th>CSI_Value</th>\n",
       "      <th>Amplitude_m</th>\n",
       "      <th>Phase_rad</th>\n",
       "      <th>Activity</th>\n",
       "    </tr>\n",
       "  </thead>\n",
       "  <tbody>\n",
       "    <tr>\n",
       "      <th>0</th>\n",
       "      <td>0.0004883+0.0004883i</td>\n",
       "      <td>1.495711</td>\n",
       "      <td>3.121187</td>\n",
       "      <td>Walking</td>\n",
       "    </tr>\n",
       "    <tr>\n",
       "      <th>1</th>\n",
       "      <td>0-0.0004883i</td>\n",
       "      <td>2.589975</td>\n",
       "      <td>1.196861</td>\n",
       "      <td>Walking</td>\n",
       "    </tr>\n",
       "    <tr>\n",
       "      <th>2</th>\n",
       "      <td>0.00045778+0.0004883i</td>\n",
       "      <td>4.172037</td>\n",
       "      <td>-1.212026</td>\n",
       "      <td>Walking</td>\n",
       "    </tr>\n",
       "    <tr>\n",
       "      <th>3</th>\n",
       "      <td>0.0004883-0.0004883i</td>\n",
       "      <td>2.929800</td>\n",
       "      <td>0.000000</td>\n",
       "      <td>Walking</td>\n",
       "    </tr>\n",
       "    <tr>\n",
       "      <th>4</th>\n",
       "      <td>0-3.0519e-05i</td>\n",
       "      <td>2.873450</td>\n",
       "      <td>-2.606634</td>\n",
       "      <td>Walking</td>\n",
       "    </tr>\n",
       "    <tr>\n",
       "      <th>...</th>\n",
       "      <td>...</td>\n",
       "      <td>...</td>\n",
       "      <td>...</td>\n",
       "      <td>...</td>\n",
       "    </tr>\n",
       "    <tr>\n",
       "      <th>194</th>\n",
       "      <td>0+0.0004883i</td>\n",
       "      <td>1.525342</td>\n",
       "      <td>-0.347052</td>\n",
       "      <td>No_Person</td>\n",
       "    </tr>\n",
       "    <tr>\n",
       "      <th>195</th>\n",
       "      <td>0.00045778</td>\n",
       "      <td>1.381774</td>\n",
       "      <td>2.387431</td>\n",
       "      <td>No_Person</td>\n",
       "    </tr>\n",
       "    <tr>\n",
       "      <th>196</th>\n",
       "      <td>0.00045778+0.00045778i</td>\n",
       "      <td>1.953200</td>\n",
       "      <td>0.000000</td>\n",
       "      <td>No_Person</td>\n",
       "    </tr>\n",
       "    <tr>\n",
       "      <th>197</th>\n",
       "      <td>-3.0519e-05-0.00097659i</td>\n",
       "      <td>1.760585</td>\n",
       "      <td>-2.158794</td>\n",
       "      <td>No_Person</td>\n",
       "    </tr>\n",
       "    <tr>\n",
       "      <th>198</th>\n",
       "      <td>-0.0004883-0.0010071i</td>\n",
       "      <td>1.534762</td>\n",
       "      <td>-1.267912</td>\n",
       "      <td>No_Person</td>\n",
       "    </tr>\n",
       "  </tbody>\n",
       "</table>\n",
       "<p>199 rows × 4 columns</p>\n",
       "</div>"
      ],
      "text/plain": [
       "                   CSI_Value  Amplitude_m  Phase_rad   Activity\n",
       "0       0.0004883+0.0004883i     1.495711   3.121187    Walking\n",
       "1               0-0.0004883i     2.589975   1.196861    Walking\n",
       "2      0.00045778+0.0004883i     4.172037  -1.212026    Walking\n",
       "3       0.0004883-0.0004883i     2.929800   0.000000    Walking\n",
       "4              0-3.0519e-05i     2.873450  -2.606634    Walking\n",
       "..                       ...          ...        ...        ...\n",
       "194             0+0.0004883i     1.525342  -0.347052  No_Person\n",
       "195               0.00045778     1.381774   2.387431  No_Person\n",
       "196   0.00045778+0.00045778i     1.953200   0.000000  No_Person\n",
       "197  -3.0519e-05-0.00097659i     1.760585  -2.158794  No_Person\n",
       "198    -0.0004883-0.0010071i     1.534762  -1.267912  No_Person\n",
       "\n",
       "[199 rows x 4 columns]"
      ]
     },
     "execution_count": 170,
     "metadata": {},
     "output_type": "execute_result"
    }
   ],
   "source": [
    "# label=[\"CSI Value\",\"Amplitude_m\", \"Phase_rad\",\"Activity\"]\n",
    "df=pd.read_csv(\"/home/ranjit/Thesis/CSI_Matlab/CSI_Dataset_final/All_Activity_room.csv\") # names=label\n",
    "\n",
    "df.head(-10)"
   ]
  },
  {
   "cell_type": "code",
   "execution_count": 171,
   "id": "495dd743",
   "metadata": {},
   "outputs": [
    {
     "data": {
      "text/plain": [
       "<AxesSubplot:title={'center':'Total number of sample Vs Activity'}>"
      ]
     },
     "execution_count": 171,
     "metadata": {},
     "output_type": "execute_result"
    },
    {
     "data": {
      "image/png": "[encoded data removed]",
      "text/plain": [
       "<Figure size 432x288 with 1 Axes>"
      ]
     },
     "metadata": {},
     "output_type": "display_data"
    }
   ],
   "source": [
    "sns.set(color_codes=True)\n",
    "df['Activity'].value_counts().plot(kind='bar',color=\"dodgerblue\",title='Total number of sample Vs Activity')\n"
   ]
  },
  {
   "cell_type": "markdown",
   "id": "8adcba6b",
   "metadata": {},
   "source": [
    "# For dataset with repeated CSI value in dataset"
   ]
  },
  {
   "cell_type": "code",
   "execution_count": 172,
   "id": "1f01c8f1",
   "metadata": {},
   "outputs": [
    {
     "name": "stdout",
     "output_type": "stream",
     "text": [
      "Data appended to final dataset successfully.\n"
     ]
    }
   ],
   "source": [
    "data = {'CSI_Value': row_csi,\"Amplitude_m\":csi_amp, \"Phase_rad\":csi_phs, \"Activity\":csi_activity }\n",
    "\n",
    "# Make data frame of above data\n",
    "df = pd.DataFrame(data)\n",
    " \n",
    "# Append data frame to CSV file\n",
    "df.to_csv('/home/ranjit/Thesis/CSI_Matlab/CSI_Dataset_final/All_Activity_room_with_rep.csv', mode='a', index=False, header=False)\n",
    " \n",
    "\n",
    "print(\"Data appended to final dataset successfully.\")"
   ]
  },
  {
   "cell_type": "code",
   "execution_count": 173,
   "id": "573ed5bf",
   "metadata": {},
   "outputs": [
    {
     "data": {
      "text/html": [
       "<div>\n",
       "<style scoped>\n",
       "    .dataframe tbody tr th:only-of-type {\n",
       "        vertical-align: middle;\n",
       "    }\n",
       "\n",
       "    .dataframe tbody tr th {\n",
       "        vertical-align: top;\n",
       "    }\n",
       "\n",
       "    .dataframe thead th {\n",
       "        text-align: right;\n",
       "    }\n",
       "</style>\n",
       "<table border=\"1\" class=\"dataframe\">\n",
       "  <thead>\n",
       "    <tr style=\"text-align: right;\">\n",
       "      <th></th>\n",
       "      <th>CSI_Value</th>\n",
       "      <th>Amplitude_m</th>\n",
       "      <th>Phase_rad</th>\n",
       "      <th>Activity</th>\n",
       "    </tr>\n",
       "  </thead>\n",
       "  <tbody>\n",
       "    <tr>\n",
       "      <th>0</th>\n",
       "      <td>0.0004883+0.0004883i</td>\n",
       "      <td>0.690560</td>\n",
       "      <td>0.785398</td>\n",
       "      <td>Walking</td>\n",
       "    </tr>\n",
       "    <tr>\n",
       "      <th>1</th>\n",
       "      <td>0-0.0004883i</td>\n",
       "      <td>0.488300</td>\n",
       "      <td>-1.570796</td>\n",
       "      <td>Walking</td>\n",
       "    </tr>\n",
       "    <tr>\n",
       "      <th>2</th>\n",
       "      <td>0.00045778+0.0004883i</td>\n",
       "      <td>0.669328</td>\n",
       "      <td>0.817646</td>\n",
       "      <td>Walking</td>\n",
       "    </tr>\n",
       "    <tr>\n",
       "      <th>3</th>\n",
       "      <td>0.0004883-0.0004883i</td>\n",
       "      <td>0.690560</td>\n",
       "      <td>-0.785398</td>\n",
       "      <td>Walking</td>\n",
       "    </tr>\n",
       "    <tr>\n",
       "      <th>4</th>\n",
       "      <td>0-3.0519e-05i</td>\n",
       "      <td>0.030519</td>\n",
       "      <td>-1.570796</td>\n",
       "      <td>Walking</td>\n",
       "    </tr>\n",
       "    <tr>\n",
       "      <th>...</th>\n",
       "      <td>...</td>\n",
       "      <td>...</td>\n",
       "      <td>...</td>\n",
       "      <td>...</td>\n",
       "    </tr>\n",
       "    <tr>\n",
       "      <th>145467</th>\n",
       "      <td>0+0.0004883i</td>\n",
       "      <td>1.525342</td>\n",
       "      <td>-0.347052</td>\n",
       "      <td>No_Person</td>\n",
       "    </tr>\n",
       "    <tr>\n",
       "      <th>145468</th>\n",
       "      <td>0.00045778</td>\n",
       "      <td>1.381774</td>\n",
       "      <td>2.387431</td>\n",
       "      <td>No_Person</td>\n",
       "    </tr>\n",
       "    <tr>\n",
       "      <th>145469</th>\n",
       "      <td>0.00045778+0.00045778i</td>\n",
       "      <td>1.953200</td>\n",
       "      <td>0.000000</td>\n",
       "      <td>No_Person</td>\n",
       "    </tr>\n",
       "    <tr>\n",
       "      <th>145470</th>\n",
       "      <td>-3.0519e-05-0.00097659i</td>\n",
       "      <td>1.760585</td>\n",
       "      <td>-2.158794</td>\n",
       "      <td>No_Person</td>\n",
       "    </tr>\n",
       "    <tr>\n",
       "      <th>145471</th>\n",
       "      <td>-0.0004883-0.0010071i</td>\n",
       "      <td>1.534762</td>\n",
       "      <td>-1.267912</td>\n",
       "      <td>No_Person</td>\n",
       "    </tr>\n",
       "  </tbody>\n",
       "</table>\n",
       "<p>145472 rows × 4 columns</p>\n",
       "</div>"
      ],
      "text/plain": [
       "                      CSI_Value  Amplitude_m  Phase_rad   Activity\n",
       "0          0.0004883+0.0004883i     0.690560   0.785398    Walking\n",
       "1                  0-0.0004883i     0.488300  -1.570796    Walking\n",
       "2         0.00045778+0.0004883i     0.669328   0.817646    Walking\n",
       "3          0.0004883-0.0004883i     0.690560  -0.785398    Walking\n",
       "4                 0-3.0519e-05i     0.030519  -1.570796    Walking\n",
       "...                         ...          ...        ...        ...\n",
       "145467             0+0.0004883i     1.525342  -0.347052  No_Person\n",
       "145468               0.00045778     1.381774   2.387431  No_Person\n",
       "145469   0.00045778+0.00045778i     1.953200   0.000000  No_Person\n",
       "145470  -3.0519e-05-0.00097659i     1.760585  -2.158794  No_Person\n",
       "145471    -0.0004883-0.0010071i     1.534762  -1.267912  No_Person\n",
       "\n",
       "[145472 rows x 4 columns]"
      ]
     },
     "execution_count": 173,
     "metadata": {},
     "output_type": "execute_result"
    }
   ],
   "source": [
    "\n",
    "df2=pd.read_csv(\"/home/ranjit/Thesis/CSI_Matlab/CSI_Dataset_final/All_Activity_room_with_rep.csv\")\n",
    "\n",
    "df2.head(-10)"
   ]
  },
  {
   "cell_type": "code",
   "execution_count": 174,
   "id": "924b0e57",
   "metadata": {},
   "outputs": [
    {
     "data": {
      "text/plain": [
       "<AxesSubplot:title={'center':'Total number of sample Vs Activity'}>"
      ]
     },
     "execution_count": 174,
     "metadata": {},
     "output_type": "execute_result"
    },
    {
     "data": {
      "image/png": "[encoded data removed]",
      "text/plain": [
       "<Figure size 432x288 with 1 Axes>"
      ]
     },
     "metadata": {},
     "output_type": "display_data"
    }
   ],
   "source": [
    "sns.set(color_codes=True)\n",
    "df2['Activity'].value_counts().plot(kind='bar',color=\"dodgerblue\",title='Total number of sample Vs Activity')"
   ]
  },
  {
   "cell_type": "code",
   "execution_count": null,
   "id": "de0142c0",
   "metadata": {},
   "outputs": [],
   "source": []
  },
  {
   "cell_type": "code",
   "execution_count": null,
   "id": "51f93ad4",
   "metadata": {},
   "outputs": [],
   "source": []
  },
  {
   "cell_type": "code",
   "execution_count": null,
   "id": "311ba8c1",
   "metadata": {},
   "outputs": [],
   "source": []
  }
 ],
 "metadata": {
  "kernelspec": {
   "display_name": "Python 3 (ipykernel)",
   "language": "python",
   "name": "python3"
  },
  "language_info": {
   "codemirror_mode": {
    "name": "ipython",
    "version": 3
   },
   "file_extension": ".py",
   "mimetype": "text/x-python",
   "name": "python",
   "nbconvert_exporter": "python",
   "pygments_lexer": "ipython3",
   "version": "3.9.7"
  }
 },
 "nbformat": 4,
 "nbformat_minor": 5
}
